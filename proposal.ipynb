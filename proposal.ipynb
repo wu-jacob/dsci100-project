{
 "cells": [
  {
   "cell_type": "markdown",
   "id": "92d0c956-3cda-4859-a76a-4cae944e89f5",
   "metadata": {
    "tags": []
   },
   "source": [
    "**DSCI 100 Project**  \n",
    "-----------------------------------------------------------------------------------------------------\n",
    "**Using the Age Maximum Heart Rate and ST Depression Induced by Exercise of Individuals in the U.S. to Predict the Presence of Heart Disease**"
   ]
  },
  {
   "cell_type": "markdown",
   "id": "0f043a3e-f508-49ef-9f0f-6616c8602134",
   "metadata": {},
   "source": [
    "**1. Introduction**"
   ]
  },
  {
   "cell_type": "markdown",
   "id": "60ab8048-a53e-4f00-b2c2-ba9fbe99bc72",
   "metadata": {},
   "source": [
    "Heart disease is a prevalent disease throughout our world today due to the lifestyles and environmental factors that have been on the rise. In the United States, 48% of the population lives with heart disease. Notably, the vast majority of individuals live with a significant risk factor for heart disease. Risk factors include unhealthy BMI, abnormally high/low resting blood pressure, high resting heart rate, and old age. It is also important to consider that heart disease describes a range of conditions that affect the heart (congenital heart defects, arrhythmia, etc.).\n",
    "\n",
    "Although heart disease consumes millions of lives each year, if detected early, damage can be drastically reduced or prevented (Muhammad et al.). This makes the ability to detect the presence of heart disease in an individual essential to saving lives.\n",
    "\n",
    "This project will answer the question:   \n",
    "\n",
    "*“How accurately could the age, maximum heart rate, and ST depression\\* induced by exercise of individuals in the Cleveland Heart Disease Data Set predict the presence of heart disease in an individual?”*   \n",
    "\n",
    "Our dataset originates from the V.A. Medical Center, Long Beach and Cleveland Clinic Foundation. The dataset includes variables measuring age, sex, cholesterol levels, resting blood pressure, etc.   \n",
    "\n",
    "*An ST depression is a specific outcome that may appear in a person’s ECG (electrocardiogram) results. It occurs when the ST segment appears abnormally low and sits below the baseline in a person’s results (Medical News Today). \n"
   ]
  },
  {
   "cell_type": "markdown",
   "id": "0bd2b7d4-954f-4802-a94d-b531f459e854",
   "metadata": {
    "tags": []
   },
   "source": [
    "**2. Loading Data**"
   ]
  },
  {
   "cell_type": "markdown",
   "id": "951dfde2-a27b-429c-a492-eeca40ead3d8",
   "metadata": {},
   "source": [
    "First we load in the packages that will need to later use in our data analysis."
   ]
  },
  {
   "cell_type": "code",
   "execution_count": 1,
   "id": "08a90b8a-c5c1-4c33-8ba1-2800c33aa072",
   "metadata": {
    "tags": []
   },
   "outputs": [
    {
     "name": "stderr",
     "output_type": "stream",
     "text": [
      "── \u001b[1mAttaching packages\u001b[22m ──────────────────────────────────────────────────────────────────── tidyverse 1.3.1 ──\n",
      "\n",
      "\u001b[32m✔\u001b[39m \u001b[34mggplot2\u001b[39m 3.4.1     \u001b[32m✔\u001b[39m \u001b[34mpurrr  \u001b[39m 1.0.1\n",
      "\u001b[32m✔\u001b[39m \u001b[34mtibble \u001b[39m 3.1.8     \u001b[32m✔\u001b[39m \u001b[34mdplyr  \u001b[39m 1.1.0\n",
      "\u001b[32m✔\u001b[39m \u001b[34mtidyr  \u001b[39m 1.3.0     \u001b[32m✔\u001b[39m \u001b[34mstringr\u001b[39m 1.5.0\n",
      "\u001b[32m✔\u001b[39m \u001b[34mreadr  \u001b[39m 2.1.4     \u001b[32m✔\u001b[39m \u001b[34mforcats\u001b[39m 1.0.0\n",
      "\n",
      "── \u001b[1mConflicts\u001b[22m ─────────────────────────────────────────────────────────────────────── tidyverse_conflicts() ──\n",
      "\u001b[31m✖\u001b[39m \u001b[34mdplyr\u001b[39m::\u001b[32mfilter()\u001b[39m masks \u001b[34mstats\u001b[39m::filter()\n",
      "\u001b[31m✖\u001b[39m \u001b[34mdplyr\u001b[39m::\u001b[32mlag()\u001b[39m    masks \u001b[34mstats\u001b[39m::lag()\n",
      "\n",
      "Warning message:\n",
      "\"package 'tidymodels' was built under R version 4.2.3\"\n",
      "── \u001b[1mAttaching packages\u001b[22m ─────────────────────────────────────────────────────────────────── tidymodels 1.0.0 ──\n",
      "\n",
      "\u001b[32m✔\u001b[39m \u001b[34mbroom       \u001b[39m 1.0.3     \u001b[32m✔\u001b[39m \u001b[34mrsample     \u001b[39m 1.1.1\n",
      "\u001b[32m✔\u001b[39m \u001b[34mdials       \u001b[39m 1.1.0     \u001b[32m✔\u001b[39m \u001b[34mtune        \u001b[39m 1.0.1\n",
      "\u001b[32m✔\u001b[39m \u001b[34minfer       \u001b[39m 1.0.4     \u001b[32m✔\u001b[39m \u001b[34mworkflows   \u001b[39m 1.1.3\n",
      "\u001b[32m✔\u001b[39m \u001b[34mmodeldata   \u001b[39m 1.1.0     \u001b[32m✔\u001b[39m \u001b[34mworkflowsets\u001b[39m 1.0.0\n",
      "\u001b[32m✔\u001b[39m \u001b[34mparsnip     \u001b[39m 1.0.4     \u001b[32m✔\u001b[39m \u001b[34myardstick   \u001b[39m 1.1.0\n",
      "\u001b[32m✔\u001b[39m \u001b[34mrecipes     \u001b[39m 1.0.5     \n",
      "\n",
      "── \u001b[1mConflicts\u001b[22m ────────────────────────────────────────────────────────────────────── tidymodels_conflicts() ──\n",
      "\u001b[31m✖\u001b[39m \u001b[34mscales\u001b[39m::\u001b[32mdiscard()\u001b[39m masks \u001b[34mpurrr\u001b[39m::discard()\n",
      "\u001b[31m✖\u001b[39m \u001b[34mdplyr\u001b[39m::\u001b[32mfilter()\u001b[39m   masks \u001b[34mstats\u001b[39m::filter()\n",
      "\u001b[31m✖\u001b[39m \u001b[34mrecipes\u001b[39m::\u001b[32mfixed()\u001b[39m  masks \u001b[34mstringr\u001b[39m::fixed()\n",
      "\u001b[31m✖\u001b[39m \u001b[34mdplyr\u001b[39m::\u001b[32mlag()\u001b[39m      masks \u001b[34mstats\u001b[39m::lag()\n",
      "\u001b[31m✖\u001b[39m \u001b[34myardstick\u001b[39m::\u001b[32mspec()\u001b[39m masks \u001b[34mreadr\u001b[39m::spec()\n",
      "\u001b[31m✖\u001b[39m \u001b[34mrecipes\u001b[39m::\u001b[32mstep()\u001b[39m   masks \u001b[34mstats\u001b[39m::step()\n",
      "\u001b[34m•\u001b[39m Search for functions across packages at \u001b[32mhttps://www.tidymodels.org/find/\u001b[39m\n",
      "\n",
      "Warning message:\n",
      "\"package 'themis' was built under R version 4.2.3\"\n",
      "Warning message:\n",
      "\"package 'kknn' was built under R version 4.2.3\"\n"
     ]
    }
   ],
   "source": [
    "library(repr)\n",
    "library(tidyverse)\n",
    "library(tidymodels)\n",
    "library(cowplot)\n",
    "library(themis)\n",
    "library(kknn)\n",
    "options(repr.matrix.max.rows = 6, repr.plot.width = 12, repr.plot.height = 10)"
   ]
  },
  {
   "cell_type": "markdown",
   "id": "f3b338e8-6279-4c92-9f3c-a35b8e6f6cb7",
   "metadata": {},
   "source": [
    "Next we read the Cleveland Heart Disease Data Set from the web."
   ]
  },
  {
   "cell_type": "code",
   "execution_count": 2,
   "id": "497907a7-129a-470f-81da-977ef62c8efe",
   "metadata": {
    "tags": []
   },
   "outputs": [
    {
     "name": "stderr",
     "output_type": "stream",
     "text": [
      "\u001b[1mRows: \u001b[22m\u001b[34m303\u001b[39m \u001b[1mColumns: \u001b[22m\u001b[34m14\u001b[39m\n",
      "\u001b[36m──\u001b[39m \u001b[1mColumn specification\u001b[22m \u001b[36m─────────────────────────────────────────────────────────────────────────────────────\u001b[39m\n",
      "\u001b[1mDelimiter:\u001b[22m \",\"\n",
      "\u001b[31mchr\u001b[39m  (2): ca, thal\n",
      "\u001b[32mdbl\u001b[39m (12): age, sex, cp, trestbps, chol, fbs, restecg, thalach, exang, oldpea...\n",
      "\n",
      "\u001b[36mℹ\u001b[39m Use `spec()` to retrieve the full column specification for this data.\n",
      "\u001b[36mℹ\u001b[39m Specify the column types or set `show_col_types = FALSE` to quiet this message.\n"
     ]
    },
    {
     "data": {
      "text/html": [
       "<table class=\"dataframe\">\n",
       "<caption>A spec_tbl_df: 303 × 14</caption>\n",
       "<thead>\n",
       "\t<tr><th scope=col>age</th><th scope=col>sex</th><th scope=col>cp</th><th scope=col>trestbps</th><th scope=col>chol</th><th scope=col>fbs</th><th scope=col>restecg</th><th scope=col>thalach</th><th scope=col>exang</th><th scope=col>oldpeak</th><th scope=col>slope</th><th scope=col>ca</th><th scope=col>thal</th><th scope=col>num</th></tr>\n",
       "\t<tr><th scope=col>&lt;dbl&gt;</th><th scope=col>&lt;dbl&gt;</th><th scope=col>&lt;dbl&gt;</th><th scope=col>&lt;dbl&gt;</th><th scope=col>&lt;dbl&gt;</th><th scope=col>&lt;dbl&gt;</th><th scope=col>&lt;dbl&gt;</th><th scope=col>&lt;dbl&gt;</th><th scope=col>&lt;dbl&gt;</th><th scope=col>&lt;dbl&gt;</th><th scope=col>&lt;dbl&gt;</th><th scope=col>&lt;chr&gt;</th><th scope=col>&lt;chr&gt;</th><th scope=col>&lt;dbl&gt;</th></tr>\n",
       "</thead>\n",
       "<tbody>\n",
       "\t<tr><td>63</td><td>1</td><td>1</td><td>145</td><td>233</td><td>1</td><td>2</td><td>150</td><td>0</td><td>2.3</td><td>3</td><td>0.0</td><td>6.0</td><td>0</td></tr>\n",
       "\t<tr><td>67</td><td>1</td><td>4</td><td>160</td><td>286</td><td>0</td><td>2</td><td>108</td><td>1</td><td>1.5</td><td>2</td><td>3.0</td><td>3.0</td><td>2</td></tr>\n",
       "\t<tr><td>67</td><td>1</td><td>4</td><td>120</td><td>229</td><td>0</td><td>2</td><td>129</td><td>1</td><td>2.6</td><td>2</td><td>2.0</td><td>7.0</td><td>1</td></tr>\n",
       "\t<tr><td>⋮</td><td>⋮</td><td>⋮</td><td>⋮</td><td>⋮</td><td>⋮</td><td>⋮</td><td>⋮</td><td>⋮</td><td>⋮</td><td>⋮</td><td>⋮</td><td>⋮</td><td>⋮</td></tr>\n",
       "\t<tr><td>57</td><td>1</td><td>4</td><td>130</td><td>131</td><td>0</td><td>0</td><td>115</td><td>1</td><td>1.2</td><td>2</td><td>1.0</td><td>7.0</td><td>3</td></tr>\n",
       "\t<tr><td>57</td><td>0</td><td>2</td><td>130</td><td>236</td><td>0</td><td>2</td><td>174</td><td>0</td><td>0.0</td><td>2</td><td>1.0</td><td>3.0</td><td>1</td></tr>\n",
       "\t<tr><td>38</td><td>1</td><td>3</td><td>138</td><td>175</td><td>0</td><td>0</td><td>173</td><td>0</td><td>0.0</td><td>1</td><td>?  </td><td>3.0</td><td>0</td></tr>\n",
       "</tbody>\n",
       "</table>\n"
      ],
      "text/latex": [
       "A spec\\_tbl\\_df: 303 × 14\n",
       "\\begin{tabular}{llllllllllllll}\n",
       " age & sex & cp & trestbps & chol & fbs & restecg & thalach & exang & oldpeak & slope & ca & thal & num\\\\\n",
       " <dbl> & <dbl> & <dbl> & <dbl> & <dbl> & <dbl> & <dbl> & <dbl> & <dbl> & <dbl> & <dbl> & <chr> & <chr> & <dbl>\\\\\n",
       "\\hline\n",
       "\t 63 & 1 & 1 & 145 & 233 & 1 & 2 & 150 & 0 & 2.3 & 3 & 0.0 & 6.0 & 0\\\\\n",
       "\t 67 & 1 & 4 & 160 & 286 & 0 & 2 & 108 & 1 & 1.5 & 2 & 3.0 & 3.0 & 2\\\\\n",
       "\t 67 & 1 & 4 & 120 & 229 & 0 & 2 & 129 & 1 & 2.6 & 2 & 2.0 & 7.0 & 1\\\\\n",
       "\t ⋮ & ⋮ & ⋮ & ⋮ & ⋮ & ⋮ & ⋮ & ⋮ & ⋮ & ⋮ & ⋮ & ⋮ & ⋮ & ⋮\\\\\n",
       "\t 57 & 1 & 4 & 130 & 131 & 0 & 0 & 115 & 1 & 1.2 & 2 & 1.0 & 7.0 & 3\\\\\n",
       "\t 57 & 0 & 2 & 130 & 236 & 0 & 2 & 174 & 0 & 0.0 & 2 & 1.0 & 3.0 & 1\\\\\n",
       "\t 38 & 1 & 3 & 138 & 175 & 0 & 0 & 173 & 0 & 0.0 & 1 & ?   & 3.0 & 0\\\\\n",
       "\\end{tabular}\n"
      ],
      "text/markdown": [
       "\n",
       "A spec_tbl_df: 303 × 14\n",
       "\n",
       "| age &lt;dbl&gt; | sex &lt;dbl&gt; | cp &lt;dbl&gt; | trestbps &lt;dbl&gt; | chol &lt;dbl&gt; | fbs &lt;dbl&gt; | restecg &lt;dbl&gt; | thalach &lt;dbl&gt; | exang &lt;dbl&gt; | oldpeak &lt;dbl&gt; | slope &lt;dbl&gt; | ca &lt;chr&gt; | thal &lt;chr&gt; | num &lt;dbl&gt; |\n",
       "|---|---|---|---|---|---|---|---|---|---|---|---|---|---|\n",
       "| 63 | 1 | 1 | 145 | 233 | 1 | 2 | 150 | 0 | 2.3 | 3 | 0.0 | 6.0 | 0 |\n",
       "| 67 | 1 | 4 | 160 | 286 | 0 | 2 | 108 | 1 | 1.5 | 2 | 3.0 | 3.0 | 2 |\n",
       "| 67 | 1 | 4 | 120 | 229 | 0 | 2 | 129 | 1 | 2.6 | 2 | 2.0 | 7.0 | 1 |\n",
       "| ⋮ | ⋮ | ⋮ | ⋮ | ⋮ | ⋮ | ⋮ | ⋮ | ⋮ | ⋮ | ⋮ | ⋮ | ⋮ | ⋮ |\n",
       "| 57 | 1 | 4 | 130 | 131 | 0 | 0 | 115 | 1 | 1.2 | 2 | 1.0 | 7.0 | 3 |\n",
       "| 57 | 0 | 2 | 130 | 236 | 0 | 2 | 174 | 0 | 0.0 | 2 | 1.0 | 3.0 | 1 |\n",
       "| 38 | 1 | 3 | 138 | 175 | 0 | 0 | 173 | 0 | 0.0 | 1 | ?   | 3.0 | 0 |\n",
       "\n"
      ],
      "text/plain": [
       "    age sex cp trestbps chol fbs restecg thalach exang oldpeak slope ca  thal\n",
       "1   63  1   1  145      233  1   2       150     0     2.3     3     0.0 6.0 \n",
       "2   67  1   4  160      286  0   2       108     1     1.5     2     3.0 3.0 \n",
       "3   67  1   4  120      229  0   2       129     1     2.6     2     2.0 7.0 \n",
       "⋮   ⋮   ⋮   ⋮  ⋮        ⋮    ⋮   ⋮       ⋮       ⋮     ⋮       ⋮     ⋮   ⋮   \n",
       "301 57  1   4  130      131  0   0       115     1     1.2     2     1.0 7.0 \n",
       "302 57  0   2  130      236  0   2       174     0     0.0     2     1.0 3.0 \n",
       "303 38  1   3  138      175  0   0       173     0     0.0     1     ?   3.0 \n",
       "    num\n",
       "1   0  \n",
       "2   2  \n",
       "3   1  \n",
       "⋮   ⋮  \n",
       "301 3  \n",
       "302 1  \n",
       "303 0  "
      ]
     },
     "metadata": {},
     "output_type": "display_data"
    }
   ],
   "source": [
    "heart_data <- read_csv(url(\"https://archive.ics.uci.edu/ml/machine-learning-databases/heart-disease/processed.cleveland.data\"), \n",
    "                       col_names = c(\"age\", \"sex\", \"cp\", \"trestbps\", \"chol\", \"fbs\", \"restecg\", \"thalach\", \"exang\", \"oldpeak\", \n",
    "                                     \"slope\", \"ca\", \"thal\", \"num\"))\n",
    "heart_data"
   ]
  },
  {
   "cell_type": "markdown",
   "id": "810b9def-f299-4fa6-92c4-3d918c53e09b",
   "metadata": {},
   "source": [
    "*Figure 1: Table displaying all predictors and their recorded data in a tidy format*"
   ]
  },
  {
   "cell_type": "markdown",
   "id": "74e47c3c-1c94-45e1-bff6-8ae8c11d5903",
   "metadata": {},
   "source": [
    "**Each column in the table above represents the following:**\n",
    "\n",
    "age - age of person in years  \n",
    "\n",
    "sex - the person's sex  \n",
    "\n",
    "cp - chest pain type \n",
    "- Value 1: typical angina\n",
    "- Value 2: atypical angina\n",
    "- Value 3: non-anginal pain, \n",
    "- Value 4: asymptomatic\n",
    "\n",
    "trestbps - the resting blood pressure in mm Hg (unit of pressure)  \n",
    "\n",
    "chol - serum cholesterol (mg/dl)  \n",
    "\n",
    "fbs - fasting blood sugar > 120 mg/dl\n",
    "- 1 = true\n",
    "- 0 = false  \n",
    "\n",
    "restecg - resting electrocardiographic results\n",
    "- Value 0: normal  \n",
    "- Value 1: having ST-T wave abnormality (T wave inversions and/or ST \n",
    "                    elevation or depression of > 0.05 mV)  \n",
    "- Value 2: showing probable or definite left ventricular hypertrophy\n",
    "                    by Estes' criteria\n",
    "                    \n",
    "thalach - maximum heart rate achieved  \n",
    "\n",
    "exercise induced angina\n",
    "- 1 = true\n",
    "- 0 = false\n",
    "\n",
    "oldpeak - ST depression induced by exercise relative to rest  \n",
    "\n",
    "slope - the slope of the peak exercise ST segment\n",
    "- Value 1: upsloping\n",
    "- Value 2: flat\n",
    "- Value 3: downsloping\n",
    "\n",
    "ca - number of major vessels (0-3) colored by flourosopy  \n",
    "\n",
    "thal - thalassemia (a blood disorder that causes the body to have less hemoglobin than normal)\n",
    "- Value 3: normal\n",
    "- Value 6: fixed defect\n",
    "- Value 7: reversable defect  \n",
    "\n",
    "num - presence of heart disease\n",
    "- Value 0: no presence of heart disease\n",
    "- Values 1-4: presence of heart disease (the stage of heart disease corresponds to the numbers 1-4)"
   ]
  },
  {
   "cell_type": "markdown",
   "id": "372d4fe4-a1c3-44b5-a761-c2dd4ae4a1b2",
   "metadata": {},
   "source": [
    "**3. Choosing Predictors & Data Wrangling**"
   ]
  },
  {
   "cell_type": "markdown",
   "id": "d5eac13a-8aa0-4fc6-ac4f-4b3ed5ade582",
   "metadata": {},
   "source": [
    "Now we select the columns that we may potentially use as predictors for our classification model. Categorical variables often do not make good predictors due to their rough distributions, so we will only consider numerical variables as candidates for potential predictors. We also mutate all cases where num > 0 (presence of heart disease) to 1 as we simply want to determine if the patient has heart disease and not what stage of heart disease it is."
   ]
  },
  {
   "cell_type": "code",
   "execution_count": 3,
   "id": "054f8e45-27a8-496e-b7ce-8d09542d270f",
   "metadata": {
    "tags": []
   },
   "outputs": [
    {
     "data": {
      "text/html": [
       "<table class=\"dataframe\">\n",
       "<caption>A tibble: 303 × 6</caption>\n",
       "<thead>\n",
       "\t<tr><th scope=col>age</th><th scope=col>trestbps</th><th scope=col>chol</th><th scope=col>thalach</th><th scope=col>oldpeak</th><th scope=col>num</th></tr>\n",
       "\t<tr><th scope=col>&lt;dbl&gt;</th><th scope=col>&lt;dbl&gt;</th><th scope=col>&lt;dbl&gt;</th><th scope=col>&lt;dbl&gt;</th><th scope=col>&lt;dbl&gt;</th><th scope=col>&lt;fct&gt;</th></tr>\n",
       "</thead>\n",
       "<tbody>\n",
       "\t<tr><td>63</td><td>145</td><td>233</td><td>150</td><td>2.3</td><td>0</td></tr>\n",
       "\t<tr><td>67</td><td>160</td><td>286</td><td>108</td><td>1.5</td><td>1</td></tr>\n",
       "\t<tr><td>67</td><td>120</td><td>229</td><td>129</td><td>2.6</td><td>1</td></tr>\n",
       "\t<tr><td>⋮</td><td>⋮</td><td>⋮</td><td>⋮</td><td>⋮</td><td>⋮</td></tr>\n",
       "\t<tr><td>57</td><td>130</td><td>131</td><td>115</td><td>1.2</td><td>1</td></tr>\n",
       "\t<tr><td>57</td><td>130</td><td>236</td><td>174</td><td>0.0</td><td>1</td></tr>\n",
       "\t<tr><td>38</td><td>138</td><td>175</td><td>173</td><td>0.0</td><td>0</td></tr>\n",
       "</tbody>\n",
       "</table>\n"
      ],
      "text/latex": [
       "A tibble: 303 × 6\n",
       "\\begin{tabular}{llllll}\n",
       " age & trestbps & chol & thalach & oldpeak & num\\\\\n",
       " <dbl> & <dbl> & <dbl> & <dbl> & <dbl> & <fct>\\\\\n",
       "\\hline\n",
       "\t 63 & 145 & 233 & 150 & 2.3 & 0\\\\\n",
       "\t 67 & 160 & 286 & 108 & 1.5 & 1\\\\\n",
       "\t 67 & 120 & 229 & 129 & 2.6 & 1\\\\\n",
       "\t ⋮ & ⋮ & ⋮ & ⋮ & ⋮ & ⋮\\\\\n",
       "\t 57 & 130 & 131 & 115 & 1.2 & 1\\\\\n",
       "\t 57 & 130 & 236 & 174 & 0.0 & 1\\\\\n",
       "\t 38 & 138 & 175 & 173 & 0.0 & 0\\\\\n",
       "\\end{tabular}\n"
      ],
      "text/markdown": [
       "\n",
       "A tibble: 303 × 6\n",
       "\n",
       "| age &lt;dbl&gt; | trestbps &lt;dbl&gt; | chol &lt;dbl&gt; | thalach &lt;dbl&gt; | oldpeak &lt;dbl&gt; | num &lt;fct&gt; |\n",
       "|---|---|---|---|---|---|\n",
       "| 63 | 145 | 233 | 150 | 2.3 | 0 |\n",
       "| 67 | 160 | 286 | 108 | 1.5 | 1 |\n",
       "| 67 | 120 | 229 | 129 | 2.6 | 1 |\n",
       "| ⋮ | ⋮ | ⋮ | ⋮ | ⋮ | ⋮ |\n",
       "| 57 | 130 | 131 | 115 | 1.2 | 1 |\n",
       "| 57 | 130 | 236 | 174 | 0.0 | 1 |\n",
       "| 38 | 138 | 175 | 173 | 0.0 | 0 |\n",
       "\n"
      ],
      "text/plain": [
       "    age trestbps chol thalach oldpeak num\n",
       "1   63  145      233  150     2.3     0  \n",
       "2   67  160      286  108     1.5     1  \n",
       "3   67  120      229  129     2.6     1  \n",
       "⋮   ⋮   ⋮        ⋮    ⋮       ⋮       ⋮  \n",
       "301 57  130      131  115     1.2     1  \n",
       "302 57  130      236  174     0.0     1  \n",
       "303 38  138      175  173     0.0     0  "
      ]
     },
     "metadata": {},
     "output_type": "display_data"
    }
   ],
   "source": [
    "heart_selected <- select(heart_data, age, trestbps, chol, thalach, oldpeak, num) |>\n",
    "    mutate(num = as_factor(case_when(num > 0 ~ 1, num == 0 ~ 0)))\n",
    "heart_selected"
   ]
  },
  {
   "cell_type": "markdown",
   "id": "d8e4fa12-ce99-41b8-b9be-f59615a8bb5c",
   "metadata": {},
   "source": [
    "*Figure 2: More concise table displaying relevant numerical predictors to our classification model*"
   ]
  },
  {
   "cell_type": "markdown",
   "id": "9914dcf7-654e-43bd-bb09-dddcb8ccac4c",
   "metadata": {},
   "source": [
    "Next, in order to determine the best predictors for heart disease in this data set, we plot density distributions  of observations with no presence of heart disease (num = 0) and observations with presence of heart disease (num = 1) with respect to each predictor. Theoretically, good predictors for classification should have at least somewhat different distributions for the two classes."
   ]
  },
  {
   "cell_type": "code",
   "execution_count": 6,
   "id": "09feb7cd-7efd-4d77-ad63-99cc639c6c5e",
   "metadata": {},
   "outputs": [
    {
     "data": {
      "image/png": "[encoded data removed]",
      "text/plain": [
       "plot without title"
      ]
     },
     "metadata": {
      "image/png": {
       "height": 480,
       "width": 900
      }
     },
     "output_type": "display_data"
    }
   ],
   "source": [
    "options(repr.plot.height = 8, repr.plot.width = 15)\n",
    "heart_selected |>\n",
    "    pivot_longer(cols = -num, names_to = 'category', values_to = 'value')  |> \n",
    "    ggplot(aes(value, fill = num)) +\n",
    "        geom_density(alpha = 0.4, colour = 'white') +\n",
    "        facet_wrap(facets = vars(category), scales = 'free') +\n",
    "        labs(x = \"Value of Predictor\", y = \"Density\") +\n",
    "        ggtitle(\"Figure 3: Density distribution plots of each variable to analyze which predictors are the best for our dataset\") +\n",
    "        scale_fill_discrete(name = \"Presence of Heart Disease\", labels = c(\"No presence\", \"Presence\")) +\n",
    "        theme_minimal() +\n",
    "        theme(text = element_text(size = 18))"
   ]
  },
  {
   "cell_type": "markdown",
   "id": "66f1c6c1-d469-40be-9e8b-0c87dc7e3890",
   "metadata": {},
   "source": [
    "*Figure 3: Density distribution  plots of each variable to analyze which predictors are the best for our dataset*"
   ]
  },
  {
   "cell_type": "markdown",
   "id": "22ab997a-35c4-4937-ba2d-dbbd6e425932",
   "metadata": {
    "tags": []
   },
   "source": [
    "From the plot above, we see that the density distribution  of observations with no presence of heart disease and presence of heart disease vary greatly with respect to age, oldpeak, and thalach, but are quite similar with respect to chol and trestbps. This means that chol and testbps are most likely not great predictors for predicting whether a new observation will have heart disease. As such, we will remove them using the select function before training our classification model."
   ]
  },
  {
   "cell_type": "code",
   "execution_count": 7,
   "id": "325e341b-afad-4c6b-bcc2-cf7041166473",
   "metadata": {
    "tags": []
   },
   "outputs": [
    {
     "data": {
      "text/html": [
       "<table class=\"dataframe\">\n",
       "<caption>A tibble: 303 × 4</caption>\n",
       "<thead>\n",
       "\t<tr><th scope=col>age</th><th scope=col>thalach</th><th scope=col>oldpeak</th><th scope=col>num</th></tr>\n",
       "\t<tr><th scope=col>&lt;dbl&gt;</th><th scope=col>&lt;dbl&gt;</th><th scope=col>&lt;dbl&gt;</th><th scope=col>&lt;fct&gt;</th></tr>\n",
       "</thead>\n",
       "<tbody>\n",
       "\t<tr><td>63</td><td>150</td><td>2.3</td><td>0</td></tr>\n",
       "\t<tr><td>67</td><td>108</td><td>1.5</td><td>1</td></tr>\n",
       "\t<tr><td>67</td><td>129</td><td>2.6</td><td>1</td></tr>\n",
       "\t<tr><td>⋮</td><td>⋮</td><td>⋮</td><td>⋮</td></tr>\n",
       "\t<tr><td>57</td><td>115</td><td>1.2</td><td>1</td></tr>\n",
       "\t<tr><td>57</td><td>174</td><td>0.0</td><td>1</td></tr>\n",
       "\t<tr><td>38</td><td>173</td><td>0.0</td><td>0</td></tr>\n",
       "</tbody>\n",
       "</table>\n"
      ],
      "text/latex": [
       "A tibble: 303 × 4\n",
       "\\begin{tabular}{llll}\n",
       " age & thalach & oldpeak & num\\\\\n",
       " <dbl> & <dbl> & <dbl> & <fct>\\\\\n",
       "\\hline\n",
       "\t 63 & 150 & 2.3 & 0\\\\\n",
       "\t 67 & 108 & 1.5 & 1\\\\\n",
       "\t 67 & 129 & 2.6 & 1\\\\\n",
       "\t ⋮ & ⋮ & ⋮ & ⋮\\\\\n",
       "\t 57 & 115 & 1.2 & 1\\\\\n",
       "\t 57 & 174 & 0.0 & 1\\\\\n",
       "\t 38 & 173 & 0.0 & 0\\\\\n",
       "\\end{tabular}\n"
      ],
      "text/markdown": [
       "\n",
       "A tibble: 303 × 4\n",
       "\n",
       "| age &lt;dbl&gt; | thalach &lt;dbl&gt; | oldpeak &lt;dbl&gt; | num &lt;fct&gt; |\n",
       "|---|---|---|---|\n",
       "| 63 | 150 | 2.3 | 0 |\n",
       "| 67 | 108 | 1.5 | 1 |\n",
       "| 67 | 129 | 2.6 | 1 |\n",
       "| ⋮ | ⋮ | ⋮ | ⋮ |\n",
       "| 57 | 115 | 1.2 | 1 |\n",
       "| 57 | 174 | 0.0 | 1 |\n",
       "| 38 | 173 | 0.0 | 0 |\n",
       "\n"
      ],
      "text/plain": [
       "    age thalach oldpeak num\n",
       "1   63  150     2.3     0  \n",
       "2   67  108     1.5     1  \n",
       "3   67  129     2.6     1  \n",
       "⋮   ⋮   ⋮       ⋮       ⋮  \n",
       "301 57  115     1.2     1  \n",
       "302 57  174     0.0     1  \n",
       "303 38  173     0.0     0  "
      ]
     },
     "metadata": {},
     "output_type": "display_data"
    }
   ],
   "source": [
    "heart_selected2 <- select(heart_data, age, thalach, oldpeak, num) |>\n",
    "    mutate(num = as_factor(case_when(num > 0 ~ 1, num == 0 ~ 0)))\n",
    "heart_selected2"
   ]
  },
  {
   "cell_type": "markdown",
   "id": "6f33d6dd-f7b4-4e8e-adff-ed5ac8bad336",
   "metadata": {},
   "source": [
    "*Figure 4: Table displaying the predictors we will use to train our classification model*"
   ]
  },
  {
   "cell_type": "markdown",
   "id": "2377b34c-7af8-4511-82cd-0e226a5ec2b1",
   "metadata": {},
   "source": [
    "**4. Splitting training and testing data**"
   ]
  },
  {
   "cell_type": "markdown",
   "id": "0de02bbe-1713-41cd-b447-2aa52115cf84",
   "metadata": {},
   "source": [
    "In order to test the accuracy of our classification model, we must split the initial dataset into a training set and a testing set. This is to ensure that our classification model does not interact with the testing data during the training process in any way. Otherwise, it may know too much information about the testing data resulting in a higher accuracy that does not necessarily  reflect a real-world scenario. Here we choose to split 75% of the data as our training set and 25% as our testing set. The reason for this split is to ensure that we have a large amount of training data to train an accurate model but also a fair amount of testing data to ensure that the accuracy of our model we later compute is accurate."
   ]
  },
  {
   "cell_type": "code",
   "execution_count": 8,
   "id": "42bedfc6-680f-422f-b892-1077b708c8ba",
   "metadata": {
    "tags": []
   },
   "outputs": [],
   "source": [
    "set.seed(5000)\n",
    "heart_split <- initial_split(heart_selected2, prop = 0.75, strata = num)\n",
    "heart_train <- training(heart_split)\n",
    "heart_test <- testing(heart_split)"
   ]
  },
  {
   "cell_type": "markdown",
   "id": "3432aeef-dfed-4f99-ae05-d61b3f52aad6",
   "metadata": {},
   "source": [
    "Before we continue, let us take a look at the number of observations in each class (presence and no presence of heart disease). Because we are training a k-nearest neighbours classification model, it is important to ensure that there are a roughly even number of observations in each class. Additionally, we also calculated the mean values of each variable with respect to each class (num). From *Figure 5*, we can see that the mean age, thalach, and oldpeak values of the two classes are fairly different from each other. This is another good sign that they are good predictors for the presence of heart disease in an individual."
   ]
  },
  {
   "cell_type": "code",
   "execution_count": 10,
   "id": "1e1f3807-a594-43e1-966f-eda1cf9eeb0d",
   "metadata": {},
   "outputs": [
    {
     "data": {
      "text/html": [
       "<table class=\"dataframe\">\n",
       "<caption>A tibble: 2 × 5</caption>\n",
       "<thead>\n",
       "\t<tr><th scope=col>num</th><th scope=col>count</th><th scope=col>mean_age</th><th scope=col>mean_thalach</th><th scope=col>mean_oldpeak</th></tr>\n",
       "\t<tr><th scope=col>&lt;fct&gt;</th><th scope=col>&lt;int&gt;</th><th scope=col>&lt;dbl&gt;</th><th scope=col>&lt;dbl&gt;</th><th scope=col>&lt;dbl&gt;</th></tr>\n",
       "</thead>\n",
       "<tbody>\n",
       "\t<tr><td>0</td><td>123</td><td>52.15447</td><td>158.8211</td><td>0.597561</td></tr>\n",
       "\t<tr><td>1</td><td>104</td><td>56.75962</td><td>140.9904</td><td>1.572115</td></tr>\n",
       "</tbody>\n",
       "</table>\n"
      ],
      "text/latex": [
       "A tibble: 2 × 5\n",
       "\\begin{tabular}{lllll}\n",
       " num & count & mean\\_age & mean\\_thalach & mean\\_oldpeak\\\\\n",
       " <fct> & <int> & <dbl> & <dbl> & <dbl>\\\\\n",
       "\\hline\n",
       "\t 0 & 123 & 52.15447 & 158.8211 & 0.597561\\\\\n",
       "\t 1 & 104 & 56.75962 & 140.9904 & 1.572115\\\\\n",
       "\\end{tabular}\n"
      ],
      "text/markdown": [
       "\n",
       "A tibble: 2 × 5\n",
       "\n",
       "| num &lt;fct&gt; | count &lt;int&gt; | mean_age &lt;dbl&gt; | mean_thalach &lt;dbl&gt; | mean_oldpeak &lt;dbl&gt; |\n",
       "|---|---|---|---|---|\n",
       "| 0 | 123 | 52.15447 | 158.8211 | 0.597561 |\n",
       "| 1 | 104 | 56.75962 | 140.9904 | 1.572115 |\n",
       "\n"
      ],
      "text/plain": [
       "  num count mean_age mean_thalach mean_oldpeak\n",
       "1 0   123   52.15447 158.8211     0.597561    \n",
       "2 1   104   56.75962 140.9904     1.572115    "
      ]
     },
     "metadata": {},
     "output_type": "display_data"
    }
   ],
   "source": [
    "heart_sum <- heart_train |> \n",
    "    group_by(num) |> \n",
    "    summarize(count = n(), mean_age = mean(age), mean_thalach = mean(thalach), mean_oldpeak = mean(oldpeak))\n",
    "heart_sum"
   ]
  },
  {
   "cell_type": "markdown",
   "id": "6ffadd74-46db-42d8-bfc3-7dd61236e9a0",
   "metadata": {},
   "source": [
    "*Figure 5: Table displaying the count and mean values of variables with respect to num*"
   ]
  },
  {
   "cell_type": "markdown",
   "id": "07818e0b-cc1a-44f0-b62d-735c88427024",
   "metadata": {},
   "source": [
    "**5. Determining the best \"k\" value for classification**"
   ]
  },
  {
   "cell_type": "markdown",
   "id": "17457ab5-e75b-478f-9236-8e2caa7b3f77",
   "metadata": {},
   "source": [
    "Now that we have ensured that our training dataset and selected predictors are fit to be used for knn classification, we now must determine the best value of k to use in training our classification model.\n",
    "\n",
    "First, because the k-nearest neighbours classification algorithm is sensitive to the scale of its predictors, we create a recipe where we scale and center our training data before we use it to train our model.\n",
    "\n",
    "Next in order to find the best value for \"k\", we simply test different values for k and compute the accuracy against a validation set. This validation set is a subset of our training set. However, because there may be bias in using only one validation set to compute accuracy, we perform cross-validation. This is a process where we split the training data into multiple subsets (in this case 5) and select one to be the validation set. Once we have computed the accuracy using that specific validation set, we rotate the subsets and make the next set the validation set. We perform this process over and over again until we have computed the accuracy of our model with respect to all subsets.\n",
    "\n",
    "Finally, we take the mean of the accuracy of the 5 subsets and plot them on a graph with respect to k. This lets us see which k value has the highest mean accuracy and is best to be used in our classification model."
   ]
  },
  {
   "cell_type": "code",
   "execution_count": 11,
   "id": "c29de24b-f63d-4019-a608-44a409507c72",
   "metadata": {
    "tags": []
   },
   "outputs": [],
   "source": [
    "set.seed(5000)\n",
    "heart_recipe <- recipe(num ~., data = heart_train) |>\n",
    "  step_scale(all_predictors()) |>\n",
    "  step_center(all_predictors())\n",
    "\n",
    "heart_vfold <- vfold_cv(heart_train, v = 5, strata = num)\n",
    "\n",
    "knn_tune <- nearest_neighbor(weight_func = \"rectangular\", neighbors = tune()) |>  \n",
    "  set_engine(\"kknn\") |>  \n",
    "  set_mode(\"classification\")  \n",
    "  \n",
    "k_vals <- tibble(neighbors = seq(from = 1, to = 150, by = 5))\n",
    "\n",
    "knn_results <- workflow() |>  \n",
    "    add_recipe(heart_recipe) |>  \n",
    "    add_model(knn_tune) |>  \n",
    "    tune_grid(resamples = heart_vfold, grid = k_vals) |> \n",
    "    collect_metrics()\n",
    "\n",
    "accuracies <- knn_results |>\n",
    "    filter(.metric == \"accuracy\")"
   ]
  },
  {
   "cell_type": "code",
   "execution_count": 15,
   "id": "3ec565b1-9f7d-4f44-b2e6-11eead01210a",
   "metadata": {
    "tags": []
   },
   "outputs": [
    {
     "data": {
      "image/png": "[encoded data removed]",
      "text/plain": [
       "plot without title"
      ]
     },
     "metadata": {
      "image/png": {
       "height": 480,
       "width": 720
      }
     },
     "output_type": "display_data"
    }
   ],
   "source": [
    "options(repr.plot.height = 8, repr.plot.width = 12)\n",
    "accuracy_vs_k <- ggplot(accuracies, aes(x = neighbors, y = mean)) +\n",
    "    geom_point() +\n",
    "    geom_line() +\n",
    "    labs(x = \"Number of neighbors\", y = \"Accuracy Estimate\") +\n",
    "    ggtitle(\"Figure 5: Plot of estimated accuracy versus the number of neighbors\") +\n",
    "    theme(text = element_text(size = 20))\n",
    "\n",
    "accuracy_vs_k"
   ]
  },
  {
   "cell_type": "markdown",
   "id": "a84f9a57-4eca-4db6-88ed-5718c472ad83",
   "metadata": {},
   "source": [
    "*Figure 5: Plot of estimated accuracy versus the number of neighbors*"
   ]
  },
  {
   "cell_type": "markdown",
   "id": "e71cac8c-6f4a-497f-8233-9396eedcfe5b",
   "metadata": {},
   "source": [
    "From the plot above, we can see that a k value of 16 has the highest mean accuracy. We now pull this value for later use."
   ]
  },
  {
   "cell_type": "code",
   "execution_count": 16,
   "id": "eee0025b-848f-4485-bc2c-34433ff2e720",
   "metadata": {
    "tags": []
   },
   "outputs": [
    {
     "data": {
      "text/html": [
       "16"
      ],
      "text/latex": [
       "16"
      ],
      "text/markdown": [
       "16"
      ],
      "text/plain": [
       "[1] 16"
      ]
     },
     "metadata": {},
     "output_type": "display_data"
    }
   ],
   "source": [
    "k_best <- accuracies |> \n",
    "    arrange(desc(mean)) |> \n",
    "    select(neighbors) |>\n",
    "    head(1) |>\n",
    "    pull()\n",
    "k_best"
   ]
  },
  {
   "cell_type": "markdown",
   "id": "f7072a4a-4d0e-4118-939e-59e9a395864c",
   "metadata": {},
   "source": [
    "**6. Training the classification model**"
   ]
  },
  {
   "cell_type": "markdown",
   "id": "a5c47466-0218-4910-b76a-3761e4501c33",
   "metadata": {},
   "source": [
    "Now that we have determined our k value and predictors, the next step is to set up a workflow with a recipe and model and train the classifier using our training data. "
   ]
  },
  {
   "cell_type": "code",
   "execution_count": 17,
   "id": "75a52e3b-248a-4893-a09e-a4756ff2401f",
   "metadata": {
    "tags": []
   },
   "outputs": [
    {
     "data": {
      "text/plain": [
       "══ Workflow [trained] ═══════════════════════════════════════════════════════════════════════════════════════\n",
       "\u001b[3mPreprocessor:\u001b[23m Recipe\n",
       "\u001b[3mModel:\u001b[23m nearest_neighbor()\n",
       "\n",
       "── Preprocessor ─────────────────────────────────────────────────────────────────────────────────────────────\n",
       "2 Recipe Steps\n",
       "\n",
       "• step_scale()\n",
       "• step_center()\n",
       "\n",
       "── Model ────────────────────────────────────────────────────────────────────────────────────────────────────\n",
       "\n",
       "Call:\n",
       "kknn::train.kknn(formula = ..y ~ ., data = data, ks = min_rows(16,     data, 5), kernel = ~\"rectangular\")\n",
       "\n",
       "Type of response variable: nominal\n",
       "Minimal misclassification: 0.2951542\n",
       "Best kernel: rectangular\n",
       "Best k: 16"
      ]
     },
     "metadata": {},
     "output_type": "display_data"
    }
   ],
   "source": [
    "set.seed(5000)\n",
    "knn_spec <- nearest_neighbor(weight_func = \"rectangular\", neighbors = k_best) |>\n",
    "    set_engine(\"kknn\") |>\n",
    "    set_mode(\"classification\")\n",
    "\n",
    "knn_fit <- workflow() |>\n",
    "    add_recipe(heart_recipe) |>\n",
    "    add_model(knn_spec) |>\n",
    "    fit(data = heart_train)\n",
    "\n",
    "knn_fit"
   ]
  },
  {
   "cell_type": "markdown",
   "id": "9b88abd9-87fb-4655-9c8b-727362fbadc9",
   "metadata": {},
   "source": [
    "**7. Predicting the class of the test data**"
   ]
  },
  {
   "cell_type": "markdown",
   "id": "34e6d92b-25bf-4be7-b59e-6fd5bc9b1237",
   "metadata": {},
   "source": [
    "Now that the classification model has been created, we will test the accuracy of the model by passing the test data into the model."
   ]
  },
  {
   "cell_type": "code",
   "execution_count": 18,
   "id": "e71667d5-6818-41ef-b463-4b337a5af20b",
   "metadata": {
    "tags": []
   },
   "outputs": [
    {
     "data": {
      "text/html": [
       "0.710526315789474"
      ],
      "text/latex": [
       "0.710526315789474"
      ],
      "text/markdown": [
       "0.710526315789474"
      ],
      "text/plain": [
       "[1] 0.7105263"
      ]
     },
     "metadata": {},
     "output_type": "display_data"
    }
   ],
   "source": [
    "set.seed(5000)\n",
    "heart_test_predictions <- predict(knn_fit, heart_test) |>\n",
    "bind_cols(heart_test)\n",
    "\n",
    "heart_test_predictions |>\n",
    "metrics(truth = num, estimate = .pred_class) |>\n",
    "filter(.metric == \"accuracy\") |> select(.estimate) |>\n",
    "pull()"
   ]
  },
  {
   "cell_type": "markdown",
   "id": "bdf032be-2f43-4397-9d23-8445d219a1c1",
   "metadata": {
    "tags": []
   },
   "source": [
    "**8. Making a confusion matrix**"
   ]
  },
  {
   "cell_type": "markdown",
   "id": "0f006f86-fda9-4fb9-93eb-c903f4d04668",
   "metadata": {},
   "source": [
    "To visualize the accuracy of our classification  model we make a confusion matrix."
   ]
  },
  {
   "cell_type": "code",
   "execution_count": 19,
   "id": "a7def918-dc65-4ca6-b575-5f3a5e3d6ffd",
   "metadata": {
    "tags": []
   },
   "outputs": [
    {
     "data": {
      "text/plain": [
       "          Truth\n",
       "Prediction  0  1\n",
       "         0 31 12\n",
       "         1 10 23"
      ]
     },
     "metadata": {},
     "output_type": "display_data"
    }
   ],
   "source": [
    "confusion <- heart_test_predictions |>\n",
    "conf_mat(truth = num, estimate = .pred_class)\n",
    "confusion"
   ]
  },
  {
   "cell_type": "code",
   "execution_count": 25,
   "id": "d30b2c61-ebae-4bba-b521-25b2ee573340",
   "metadata": {
    "tags": []
   },
   "outputs": [
    {
     "name": "stderr",
     "output_type": "stream",
     "text": [
      "\u001b[1m\u001b[22mScale for \u001b[32mfill\u001b[39m is already present.\n",
      "Adding another scale for \u001b[32mfill\u001b[39m, which will replace the existing scale.\n"
     ]
    },
    {
     "data": {
      "image/png": "[encoded data removed]",
      "text/plain": [
       "plot without title"
      ]
     },
     "metadata": {
      "image/png": {
       "height": 360,
       "width": 360
      }
     },
     "output_type": "display_data"
    }
   ],
   "source": [
    "options(repr.plot.height = 6, repr.plot.width = 6)\n",
    "autoplot(confusion, type = \"heatmap\") +\n",
    "    scale_fill_gradient(low=\"#D6EAF8\", high = \"#2E86C1\") +\n",
    "    theme(text = element_text(size = 20))"
   ]
  },
  {
   "cell_type": "markdown",
   "id": "ad93cc67-5c74-4221-9fc6-ac12d431d377",
   "metadata": {},
   "source": [
    "*Figure 6: Confusion matrix demonstrating false/true negatives/positives*"
   ]
  },
  {
   "cell_type": "markdown",
   "id": "68391940-bebb-4e4e-bdb6-030be6c90e47",
   "metadata": {},
   "source": [
    "**9. Discussion:**"
   ]
  },
  {
   "cell_type": "markdown",
   "id": "e855b110-21a9-4f10-94c1-0d46f479f8ee",
   "metadata": {},
   "source": [
    "With our exploratory data analysis, we expected to establish which variables in our data set are best suited to be used as predictors for determining the presence of heart disease and the accuracy it can be done with. We found these variables to be age, maximum heart rate, and ST depression* induced by exercise. After performing cross-validation to test the accuracy of a classification model trained with different k values, we found that a k value of 16 had the highest mean accuracy.\n",
    "\n",
    "After training a k-nearest neighbours classification model and analyzing its performance in predicting the presence of heart disease in our training data, we calculate that our classification model with a k value of 16 predicted heart disease to a 71.1% accuracy. The confusion matrix we made to visualize the accuracy of the classification demonstrates that the model has accurate true/false predictions for 54 of the 76 cases, and inaccurate predictions for 22 of the 76 cases.\n",
    "\n",
    "While we did certainly expect to find that our classification model returned accurate predictions, we also expected a slightly more refined accuracy. Overall, the field of medicine requires an extreme level of precision and it can be argued that an accuracy of 71.1% is not adequate enough for the purposes of this classification. We can also look at the confusion matrix in terms of a medical setting. For most medical tests, a false negative can be very dangerous as a disease can go undiagnosed and completely unnoticed causing irreversible damage. Due to the fact that the patient is deemed not to have heart disease, they may not be tested again in a while. In the worst case, this may result in deaths that may have been preventable otherwise. In comparison, the worst case resulting from a false positive would only be unnecessary anxiety and the waste of health resources. \n",
    "\n",
    "The early prediction of heart disease may help prevent it in many individuals as well as allow for more effective treatment. This would not only save many lives but also serve to ease the financial burden on the healthcare system.\n",
    "\n",
    "This analysis could lead to questions of how heart disease can be prevented, including those around identifying additional risk factors. Further extensions could include analysis into how predictors could be identified prior to symptoms arising to prevent impacts of the disease. Additionally, similar frameworks can be applied to other chronic conditions with major burdens on individuals and healthcare systems.\n"
   ]
  },
  {
   "cell_type": "markdown",
   "id": "88fdf524-bf84-4cc4-8033-a2488d678a8f",
   "metadata": {
    "tags": []
   },
   "source": [
    "**10. References:**  \n",
    "\n",
    "Centers for Disease Control and Prevention. (2022, October 14). Heart disease facts. Centers for Disease Control and Prevention. Retrieved March 9, 2023, from https://www.cdc.gov/heartdisease/facts.htm\n",
    "\n",
    "Cardiovascular diseases affect nearly half of American adults, statistics show. www.heart.org. (2021, November 23). Retrieved March 9, 2023, from https://www.heart.org/en/news/2019/01/31/cardiovascular-diseases-affect-nearly-half-of-american-adults-statistics-show\n",
    "\n",
    " Hungarian Institute of Cardiology. (1988, July 1). Heart Disease Data Set. UCI Machine Learning Repository: Heart disease data set. Retrieved March 9, 2023, from https://archive.ics.uci.edu/ml/datasets/Heart+Disease\n",
    "\n",
    "MediLexicon International. (2022, February 28). St depression on ECG: What it means and causes. Medical News Today. Retrieved April 4, 2023, from https://www.medicalnewstoday.com/articles/st-depression-on-ecg#summary\n",
    "\n",
    "Muhammad, Y., Tahir, M., Hayat, M., &amp; Chong, K. T. (2020, November 12). Early and accurate detection and diagnosis of heart disease using intelligent computational model. Nature News. Retrieved April 15, 2023, from https://www.nature.com/articles/s41598-020-76635-9#Sec19  \n",
    "\n",
    "World Health Organization. (n.d.). Cardiovascular diseases. World Health Organization. Retrieved April 15, 2023, from https://www.who.int/health-topics/cardiovascular-diseases#tab=tab_1"
   ]
  }
 ],
 "metadata": {
  "kernelspec": {
   "display_name": "R",
   "language": "R",
   "name": "ir"
  },
  "language_info": {
   "codemirror_mode": "r",
   "file_extension": ".r",
   "mimetype": "text/x-r-source",
   "name": "R",
   "pygments_lexer": "r",
   "version": "4.2.2"
  }
 },
 "nbformat": 4,
 "nbformat_minor": 5
}
