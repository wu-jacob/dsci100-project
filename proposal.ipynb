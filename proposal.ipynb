{
 "cells": [
  {
   "cell_type": "markdown",
   "id": "0bd2b7d4-954f-4802-a94d-b531f459e854",
   "metadata": {
    "tags": []
   },
   "source": [
    "**Exploratory Analysis**"
   ]
  },
  {
   "cell_type": "markdown",
   "id": "4dc0e93f-822d-4674-a639-939085c68352",
   "metadata": {},
   "source": [
    "First we load in the packages that will need to later use."
   ]
  },
  {
   "cell_type": "code",
   "execution_count": 4,
   "id": "08a90b8a-c5c1-4c33-8ba1-2800c33aa072",
   "metadata": {
    "tags": []
   },
   "outputs": [
    {
     "name": "stderr",
     "output_type": "stream",
     "text": [
      "── \u001b[1mAttaching core tidyverse packages\u001b[22m ──────────────────────────────────────────────────── tidyverse 2.0.0 ──\n",
      "\u001b[32m✔\u001b[39m \u001b[34mdplyr    \u001b[39m 1.1.0     \u001b[32m✔\u001b[39m \u001b[34mreadr    \u001b[39m 2.1.4\n",
      "\u001b[32m✔\u001b[39m \u001b[34mforcats  \u001b[39m 1.0.0     \u001b[32m✔\u001b[39m \u001b[34mstringr  \u001b[39m 1.5.0\n",
      "\u001b[32m✔\u001b[39m \u001b[34mggplot2  \u001b[39m 3.4.1     \u001b[32m✔\u001b[39m \u001b[34mtibble   \u001b[39m 3.1.8\n",
      "\u001b[32m✔\u001b[39m \u001b[34mlubridate\u001b[39m 1.9.2     \u001b[32m✔\u001b[39m \u001b[34mtidyr    \u001b[39m 1.3.0\n",
      "\u001b[32m✔\u001b[39m \u001b[34mpurrr    \u001b[39m 1.0.1     \n",
      "── \u001b[1mConflicts\u001b[22m ────────────────────────────────────────────────────────────────────── tidyverse_conflicts() ──\n",
      "\u001b[31m✖\u001b[39m \u001b[34mdplyr\u001b[39m::\u001b[32mfilter()\u001b[39m masks \u001b[34mstats\u001b[39m::filter()\n",
      "\u001b[31m✖\u001b[39m \u001b[34mdplyr\u001b[39m::\u001b[32mlag()\u001b[39m    masks \u001b[34mstats\u001b[39m::lag()\n",
      "\u001b[36mℹ\u001b[39m Use the conflicted package (\u001b[3m\u001b[34m<http://conflicted.r-lib.org/>\u001b[39m\u001b[23m) to force all conflicts to become errors\n",
      "── \u001b[1mAttaching packages\u001b[22m ────────────────────────────────────────────────────────────────── tidymodels 1.0.0 ──\n",
      "\n",
      "\u001b[32m✔\u001b[39m \u001b[34mbroom       \u001b[39m 1.0.3     \u001b[32m✔\u001b[39m \u001b[34mrsample     \u001b[39m 1.1.1\n",
      "\u001b[32m✔\u001b[39m \u001b[34mdials       \u001b[39m 1.1.0     \u001b[32m✔\u001b[39m \u001b[34mtune        \u001b[39m 1.0.1\n",
      "\u001b[32m✔\u001b[39m \u001b[34minfer       \u001b[39m 1.0.4     \u001b[32m✔\u001b[39m \u001b[34mworkflows   \u001b[39m 1.1.3\n",
      "\u001b[32m✔\u001b[39m \u001b[34mmodeldata   \u001b[39m 1.1.0     \u001b[32m✔\u001b[39m \u001b[34mworkflowsets\u001b[39m 1.0.0\n",
      "\u001b[32m✔\u001b[39m \u001b[34mparsnip     \u001b[39m 1.0.4     \u001b[32m✔\u001b[39m \u001b[34myardstick   \u001b[39m 1.1.0\n",
      "\u001b[32m✔\u001b[39m \u001b[34mrecipes     \u001b[39m 1.0.5     \n",
      "\n",
      "── \u001b[1mConflicts\u001b[22m ───────────────────────────────────────────────────────────────────── tidymodels_conflicts() ──\n",
      "\u001b[31m✖\u001b[39m \u001b[34mscales\u001b[39m::\u001b[32mdiscard()\u001b[39m masks \u001b[34mpurrr\u001b[39m::discard()\n",
      "\u001b[31m✖\u001b[39m \u001b[34mdplyr\u001b[39m::\u001b[32mfilter()\u001b[39m   masks \u001b[34mstats\u001b[39m::filter()\n",
      "\u001b[31m✖\u001b[39m \u001b[34mrecipes\u001b[39m::\u001b[32mfixed()\u001b[39m  masks \u001b[34mstringr\u001b[39m::fixed()\n",
      "\u001b[31m✖\u001b[39m \u001b[34mdplyr\u001b[39m::\u001b[32mlag()\u001b[39m      masks \u001b[34mstats\u001b[39m::lag()\n",
      "\u001b[31m✖\u001b[39m \u001b[34myardstick\u001b[39m::\u001b[32mspec()\u001b[39m masks \u001b[34mreadr\u001b[39m::spec()\n",
      "\u001b[31m✖\u001b[39m \u001b[34mrecipes\u001b[39m::\u001b[32mstep()\u001b[39m   masks \u001b[34mstats\u001b[39m::step()\n",
      "\u001b[34m•\u001b[39m Use suppressPackageStartupMessages() to eliminate package startup messages\n",
      "\n",
      "\n",
      "Attaching package: 'cowplot'\n",
      "\n",
      "\n",
      "The following object is masked from 'package:lubridate':\n",
      "\n",
      "    stamp\n",
      "\n",
      "\n"
     ]
    }
   ],
   "source": [
    "library(repr)\n",
    "library(tidyverse)\n",
    "library(tidymodels)\n",
    "library(cowplot)\n",
    "options(repr.matrix.max.rows = 6, repr.plot.width = 12, repr.plot.height = 10)"
   ]
  },
  {
   "cell_type": "markdown",
   "id": "b8808153-60cc-4852-a642-0e0b13de5da4",
   "metadata": {},
   "source": [
    "We read the raw heart disease data from the web."
   ]
  },
  {
   "cell_type": "code",
   "execution_count": 5,
   "id": "497907a7-129a-470f-81da-977ef62c8efe",
   "metadata": {
    "tags": []
   },
   "outputs": [
    {
     "name": "stderr",
     "output_type": "stream",
     "text": [
      "\u001b[1mRows: \u001b[22m\u001b[34m303\u001b[39m \u001b[1mColumns: \u001b[22m\u001b[34m14\u001b[39m\n",
      "\u001b[36m──\u001b[39m \u001b[1mColumn specification\u001b[22m \u001b[36m────────────────────────────────────────────────────────────────────────────────────\u001b[39m\n",
      "\u001b[1mDelimiter:\u001b[22m \",\"\n",
      "\u001b[31mchr\u001b[39m  (2): ca, thal\n",
      "\u001b[32mdbl\u001b[39m (12): age, sex, cp, trestbps, chol, fbs, restecg, thalach, exang, oldpea...\n",
      "\n",
      "\u001b[36mℹ\u001b[39m Use `spec()` to retrieve the full column specification for this data.\n",
      "\u001b[36mℹ\u001b[39m Specify the column types or set `show_col_types = FALSE` to quiet this message.\n"
     ]
    },
    {
     "data": {
      "text/html": [
       "<table class=\"dataframe\">\n",
       "<caption>A spec_tbl_df: 303 × 14</caption>\n",
       "<thead>\n",
       "\t<tr><th scope=col>age</th><th scope=col>sex</th><th scope=col>cp</th><th scope=col>trestbps</th><th scope=col>chol</th><th scope=col>fbs</th><th scope=col>restecg</th><th scope=col>thalach</th><th scope=col>exang</th><th scope=col>oldpeak</th><th scope=col>slope</th><th scope=col>ca</th><th scope=col>thal</th><th scope=col>num</th></tr>\n",
       "\t<tr><th scope=col>&lt;dbl&gt;</th><th scope=col>&lt;dbl&gt;</th><th scope=col>&lt;dbl&gt;</th><th scope=col>&lt;dbl&gt;</th><th scope=col>&lt;dbl&gt;</th><th scope=col>&lt;dbl&gt;</th><th scope=col>&lt;dbl&gt;</th><th scope=col>&lt;dbl&gt;</th><th scope=col>&lt;dbl&gt;</th><th scope=col>&lt;dbl&gt;</th><th scope=col>&lt;dbl&gt;</th><th scope=col>&lt;chr&gt;</th><th scope=col>&lt;chr&gt;</th><th scope=col>&lt;dbl&gt;</th></tr>\n",
       "</thead>\n",
       "<tbody>\n",
       "\t<tr><td>63</td><td>1</td><td>1</td><td>145</td><td>233</td><td>1</td><td>2</td><td>150</td><td>0</td><td>2.3</td><td>3</td><td>0.0</td><td>6.0</td><td>0</td></tr>\n",
       "\t<tr><td>67</td><td>1</td><td>4</td><td>160</td><td>286</td><td>0</td><td>2</td><td>108</td><td>1</td><td>1.5</td><td>2</td><td>3.0</td><td>3.0</td><td>2</td></tr>\n",
       "\t<tr><td>67</td><td>1</td><td>4</td><td>120</td><td>229</td><td>0</td><td>2</td><td>129</td><td>1</td><td>2.6</td><td>2</td><td>2.0</td><td>7.0</td><td>1</td></tr>\n",
       "\t<tr><td>⋮</td><td>⋮</td><td>⋮</td><td>⋮</td><td>⋮</td><td>⋮</td><td>⋮</td><td>⋮</td><td>⋮</td><td>⋮</td><td>⋮</td><td>⋮</td><td>⋮</td><td>⋮</td></tr>\n",
       "\t<tr><td>57</td><td>1</td><td>4</td><td>130</td><td>131</td><td>0</td><td>0</td><td>115</td><td>1</td><td>1.2</td><td>2</td><td>1.0</td><td>7.0</td><td>3</td></tr>\n",
       "\t<tr><td>57</td><td>0</td><td>2</td><td>130</td><td>236</td><td>0</td><td>2</td><td>174</td><td>0</td><td>0.0</td><td>2</td><td>1.0</td><td>3.0</td><td>1</td></tr>\n",
       "\t<tr><td>38</td><td>1</td><td>3</td><td>138</td><td>175</td><td>0</td><td>0</td><td>173</td><td>0</td><td>0.0</td><td>1</td><td>?  </td><td>3.0</td><td>0</td></tr>\n",
       "</tbody>\n",
       "</table>\n"
      ],
      "text/latex": [
       "A spec\\_tbl\\_df: 303 × 14\n",
       "\\begin{tabular}{llllllllllllll}\n",
       " age & sex & cp & trestbps & chol & fbs & restecg & thalach & exang & oldpeak & slope & ca & thal & num\\\\\n",
       " <dbl> & <dbl> & <dbl> & <dbl> & <dbl> & <dbl> & <dbl> & <dbl> & <dbl> & <dbl> & <dbl> & <chr> & <chr> & <dbl>\\\\\n",
       "\\hline\n",
       "\t 63 & 1 & 1 & 145 & 233 & 1 & 2 & 150 & 0 & 2.3 & 3 & 0.0 & 6.0 & 0\\\\\n",
       "\t 67 & 1 & 4 & 160 & 286 & 0 & 2 & 108 & 1 & 1.5 & 2 & 3.0 & 3.0 & 2\\\\\n",
       "\t 67 & 1 & 4 & 120 & 229 & 0 & 2 & 129 & 1 & 2.6 & 2 & 2.0 & 7.0 & 1\\\\\n",
       "\t ⋮ & ⋮ & ⋮ & ⋮ & ⋮ & ⋮ & ⋮ & ⋮ & ⋮ & ⋮ & ⋮ & ⋮ & ⋮ & ⋮\\\\\n",
       "\t 57 & 1 & 4 & 130 & 131 & 0 & 0 & 115 & 1 & 1.2 & 2 & 1.0 & 7.0 & 3\\\\\n",
       "\t 57 & 0 & 2 & 130 & 236 & 0 & 2 & 174 & 0 & 0.0 & 2 & 1.0 & 3.0 & 1\\\\\n",
       "\t 38 & 1 & 3 & 138 & 175 & 0 & 0 & 173 & 0 & 0.0 & 1 & ?   & 3.0 & 0\\\\\n",
       "\\end{tabular}\n"
      ],
      "text/markdown": [
       "\n",
       "A spec_tbl_df: 303 × 14\n",
       "\n",
       "| age &lt;dbl&gt; | sex &lt;dbl&gt; | cp &lt;dbl&gt; | trestbps &lt;dbl&gt; | chol &lt;dbl&gt; | fbs &lt;dbl&gt; | restecg &lt;dbl&gt; | thalach &lt;dbl&gt; | exang &lt;dbl&gt; | oldpeak &lt;dbl&gt; | slope &lt;dbl&gt; | ca &lt;chr&gt; | thal &lt;chr&gt; | num &lt;dbl&gt; |\n",
       "|---|---|---|---|---|---|---|---|---|---|---|---|---|---|\n",
       "| 63 | 1 | 1 | 145 | 233 | 1 | 2 | 150 | 0 | 2.3 | 3 | 0.0 | 6.0 | 0 |\n",
       "| 67 | 1 | 4 | 160 | 286 | 0 | 2 | 108 | 1 | 1.5 | 2 | 3.0 | 3.0 | 2 |\n",
       "| 67 | 1 | 4 | 120 | 229 | 0 | 2 | 129 | 1 | 2.6 | 2 | 2.0 | 7.0 | 1 |\n",
       "| ⋮ | ⋮ | ⋮ | ⋮ | ⋮ | ⋮ | ⋮ | ⋮ | ⋮ | ⋮ | ⋮ | ⋮ | ⋮ | ⋮ |\n",
       "| 57 | 1 | 4 | 130 | 131 | 0 | 0 | 115 | 1 | 1.2 | 2 | 1.0 | 7.0 | 3 |\n",
       "| 57 | 0 | 2 | 130 | 236 | 0 | 2 | 174 | 0 | 0.0 | 2 | 1.0 | 3.0 | 1 |\n",
       "| 38 | 1 | 3 | 138 | 175 | 0 | 0 | 173 | 0 | 0.0 | 1 | ?   | 3.0 | 0 |\n",
       "\n"
      ],
      "text/plain": [
       "    age sex cp trestbps chol fbs restecg thalach exang oldpeak slope ca  thal\n",
       "1   63  1   1  145      233  1   2       150     0     2.3     3     0.0 6.0 \n",
       "2   67  1   4  160      286  0   2       108     1     1.5     2     3.0 3.0 \n",
       "3   67  1   4  120      229  0   2       129     1     2.6     2     2.0 7.0 \n",
       "⋮   ⋮   ⋮   ⋮  ⋮        ⋮    ⋮   ⋮       ⋮       ⋮     ⋮       ⋮     ⋮   ⋮   \n",
       "301 57  1   4  130      131  0   0       115     1     1.2     2     1.0 7.0 \n",
       "302 57  0   2  130      236  0   2       174     0     0.0     2     1.0 3.0 \n",
       "303 38  1   3  138      175  0   0       173     0     0.0     1     ?   3.0 \n",
       "    num\n",
       "1   0  \n",
       "2   2  \n",
       "3   1  \n",
       "⋮   ⋮  \n",
       "301 3  \n",
       "302 1  \n",
       "303 0  "
      ]
     },
     "metadata": {},
     "output_type": "display_data"
    }
   ],
   "source": [
    "heart_data <- read_csv(url(\"https://archive.ics.uci.edu/ml/machine-learning-databases/heart-disease/processed.cleveland.data\"), \n",
    "                       col_names = c(\"age\", \"sex\", \"cp\", \"trestbps\", \"chol\", \"fbs\", \"restecg\", \"thalach\", \"exang\", \"oldpeak\", \n",
    "                                     \"slope\", \"ca\", \"thal\", \"num\"))\n",
    "heart_data"
   ]
  },
  {
   "cell_type": "markdown",
   "id": "d5eac13a-8aa0-4fc6-ac4f-4b3ed5ade582",
   "metadata": {},
   "source": [
    "Now we select the columns that we may potentialy use as predictors for our classification model. These columns are age, resting blood pressure, serum cholesterol, maximum heart rate achieved, and ST depression from excercise (refer to the introduction for further information). The reason we select these variables is because they are numeric. Variables that are categorical are usually not good predictors for classification models as the data distruibution is not smooth. We mutate all cases where num > 0 to 1 as we simply want to determine if the patient has heart disease and not what stage of heart disease it is."
   ]
  },
  {
   "cell_type": "code",
   "execution_count": 6,
   "id": "054f8e45-27a8-496e-b7ce-8d09542d270f",
   "metadata": {
    "tags": []
   },
   "outputs": [
    {
     "data": {
      "text/html": [
       "<table class=\"dataframe\">\n",
       "<caption>A tibble: 303 × 6</caption>\n",
       "<thead>\n",
       "\t<tr><th scope=col>age</th><th scope=col>trestbps</th><th scope=col>chol</th><th scope=col>thalach</th><th scope=col>oldpeak</th><th scope=col>num</th></tr>\n",
       "\t<tr><th scope=col>&lt;dbl&gt;</th><th scope=col>&lt;dbl&gt;</th><th scope=col>&lt;dbl&gt;</th><th scope=col>&lt;dbl&gt;</th><th scope=col>&lt;dbl&gt;</th><th scope=col>&lt;dbl&gt;</th></tr>\n",
       "</thead>\n",
       "<tbody>\n",
       "\t<tr><td>63</td><td>145</td><td>233</td><td>150</td><td>2.3</td><td>0</td></tr>\n",
       "\t<tr><td>67</td><td>160</td><td>286</td><td>108</td><td>1.5</td><td>1</td></tr>\n",
       "\t<tr><td>67</td><td>120</td><td>229</td><td>129</td><td>2.6</td><td>1</td></tr>\n",
       "\t<tr><td>⋮</td><td>⋮</td><td>⋮</td><td>⋮</td><td>⋮</td><td>⋮</td></tr>\n",
       "\t<tr><td>57</td><td>130</td><td>131</td><td>115</td><td>1.2</td><td>1</td></tr>\n",
       "\t<tr><td>57</td><td>130</td><td>236</td><td>174</td><td>0.0</td><td>1</td></tr>\n",
       "\t<tr><td>38</td><td>138</td><td>175</td><td>173</td><td>0.0</td><td>0</td></tr>\n",
       "</tbody>\n",
       "</table>\n"
      ],
      "text/latex": [
       "A tibble: 303 × 6\n",
       "\\begin{tabular}{llllll}\n",
       " age & trestbps & chol & thalach & oldpeak & num\\\\\n",
       " <dbl> & <dbl> & <dbl> & <dbl> & <dbl> & <dbl>\\\\\n",
       "\\hline\n",
       "\t 63 & 145 & 233 & 150 & 2.3 & 0\\\\\n",
       "\t 67 & 160 & 286 & 108 & 1.5 & 1\\\\\n",
       "\t 67 & 120 & 229 & 129 & 2.6 & 1\\\\\n",
       "\t ⋮ & ⋮ & ⋮ & ⋮ & ⋮ & ⋮\\\\\n",
       "\t 57 & 130 & 131 & 115 & 1.2 & 1\\\\\n",
       "\t 57 & 130 & 236 & 174 & 0.0 & 1\\\\\n",
       "\t 38 & 138 & 175 & 173 & 0.0 & 0\\\\\n",
       "\\end{tabular}\n"
      ],
      "text/markdown": [
       "\n",
       "A tibble: 303 × 6\n",
       "\n",
       "| age &lt;dbl&gt; | trestbps &lt;dbl&gt; | chol &lt;dbl&gt; | thalach &lt;dbl&gt; | oldpeak &lt;dbl&gt; | num &lt;dbl&gt; |\n",
       "|---|---|---|---|---|---|\n",
       "| 63 | 145 | 233 | 150 | 2.3 | 0 |\n",
       "| 67 | 160 | 286 | 108 | 1.5 | 1 |\n",
       "| 67 | 120 | 229 | 129 | 2.6 | 1 |\n",
       "| ⋮ | ⋮ | ⋮ | ⋮ | ⋮ | ⋮ |\n",
       "| 57 | 130 | 131 | 115 | 1.2 | 1 |\n",
       "| 57 | 130 | 236 | 174 | 0.0 | 1 |\n",
       "| 38 | 138 | 175 | 173 | 0.0 | 0 |\n",
       "\n"
      ],
      "text/plain": [
       "    age trestbps chol thalach oldpeak num\n",
       "1   63  145      233  150     2.3     0  \n",
       "2   67  160      286  108     1.5     1  \n",
       "3   67  120      229  129     2.6     1  \n",
       "⋮   ⋮   ⋮        ⋮    ⋮       ⋮       ⋮  \n",
       "301 57  130      131  115     1.2     1  \n",
       "302 57  130      236  174     0.0     1  \n",
       "303 38  138      175  173     0.0     0  "
      ]
     },
     "metadata": {},
     "output_type": "display_data"
    }
   ],
   "source": [
    "heart_selected <- select(heart_data, age, trestbps, chol, thalach, oldpeak, num) |>\n",
    "    mutate(num = case_when(num > 0 ~ 1, num == 0 ~ 0))\n",
    "heart_selected"
   ]
  },
  {
   "cell_type": "markdown",
   "id": "1287d101-b777-4558-9fca-fb69375c4155",
   "metadata": {
    "tags": []
   },
   "source": [
    "Splitting training and testing data."
   ]
  },
  {
   "cell_type": "code",
   "execution_count": 7,
   "id": "42bedfc6-680f-422f-b892-1077b708c8ba",
   "metadata": {
    "tags": []
   },
   "outputs": [],
   "source": [
    "heart_split <- initial_split(heart_selected, prop = 0.75, strata = num)\n",
    "heart_train <- training(heart_split)\n",
    "heart_test <- testing(heart_split)"
   ]
  },
  {
   "cell_type": "markdown",
   "id": "a8223fa4-0535-46c1-9920-fd0de6623002",
   "metadata": {},
   "source": [
    "Exploratory analysis of the number of observations and mean values of each class."
   ]
  },
  {
   "cell_type": "code",
   "execution_count": 8,
   "id": "1e1f3807-a594-43e1-966f-eda1cf9eeb0d",
   "metadata": {},
   "outputs": [
    {
     "data": {
      "text/html": [
       "<table class=\"dataframe\">\n",
       "<caption>A tibble: 2 × 7</caption>\n",
       "<thead>\n",
       "\t<tr><th scope=col>num</th><th scope=col>count</th><th scope=col>mean_age</th><th scope=col>mean_trestbps</th><th scope=col>mean_chol</th><th scope=col>mean_thalach</th><th scope=col>mean_oldpeak</th></tr>\n",
       "\t<tr><th scope=col>&lt;dbl&gt;</th><th scope=col>&lt;int&gt;</th><th scope=col>&lt;dbl&gt;</th><th scope=col>&lt;dbl&gt;</th><th scope=col>&lt;dbl&gt;</th><th scope=col>&lt;dbl&gt;</th><th scope=col>&lt;dbl&gt;</th></tr>\n",
       "</thead>\n",
       "<tbody>\n",
       "\t<tr><td>0</td><td>123</td><td>51.73171</td><td>129.3984</td><td>240.8862</td><td>160.3008</td><td>0.5674797</td></tr>\n",
       "\t<tr><td>1</td><td>104</td><td>56.90385</td><td>135.3365</td><td>248.4615</td><td>140.1731</td><td>1.5730769</td></tr>\n",
       "</tbody>\n",
       "</table>\n"
      ],
      "text/latex": [
       "A tibble: 2 × 7\n",
       "\\begin{tabular}{lllllll}\n",
       " num & count & mean\\_age & mean\\_trestbps & mean\\_chol & mean\\_thalach & mean\\_oldpeak\\\\\n",
       " <dbl> & <int> & <dbl> & <dbl> & <dbl> & <dbl> & <dbl>\\\\\n",
       "\\hline\n",
       "\t 0 & 123 & 51.73171 & 129.3984 & 240.8862 & 160.3008 & 0.5674797\\\\\n",
       "\t 1 & 104 & 56.90385 & 135.3365 & 248.4615 & 140.1731 & 1.5730769\\\\\n",
       "\\end{tabular}\n"
      ],
      "text/markdown": [
       "\n",
       "A tibble: 2 × 7\n",
       "\n",
       "| num &lt;dbl&gt; | count &lt;int&gt; | mean_age &lt;dbl&gt; | mean_trestbps &lt;dbl&gt; | mean_chol &lt;dbl&gt; | mean_thalach &lt;dbl&gt; | mean_oldpeak &lt;dbl&gt; |\n",
       "|---|---|---|---|---|---|---|\n",
       "| 0 | 123 | 51.73171 | 129.3984 | 240.8862 | 160.3008 | 0.5674797 |\n",
       "| 1 | 104 | 56.90385 | 135.3365 | 248.4615 | 140.1731 | 1.5730769 |\n",
       "\n"
      ],
      "text/plain": [
       "  num count mean_age mean_trestbps mean_chol mean_thalach mean_oldpeak\n",
       "1 0   123   51.73171 129.3984      240.8862  160.3008     0.5674797   \n",
       "2 1   104   56.90385 135.3365      248.4615  140.1731     1.5730769   "
      ]
     },
     "metadata": {},
     "output_type": "display_data"
    }
   ],
   "source": [
    "heart_sum <- heart_train |> \n",
    "    group_by(num) |> \n",
    "    summarize(count = n(), mean_age = mean(age), mean_trestbps = mean(trestbps), \n",
    "              mean_chol = mean(chol), mean_thalach = mean(thalach), mean_oldpeak = mean(oldpeak))\n",
    "heart_sum"
   ]
  },
  {
   "cell_type": "markdown",
   "id": "ce530caa-8724-4404-bbfe-fe44227a25a6",
   "metadata": {},
   "source": [
    "We use ggplot to make histograms in order to vizualize the distribution of each potential predictor. We then use the plot_grid function from the cowplot package to merge all histograms into a single plot as well as add a title."
   ]
  },
  {
   "cell_type": "code",
   "execution_count": 23,
   "id": "6fcfeda4-11f4-4712-816d-8bf2c53855ab",
   "metadata": {
    "tags": []
   },
   "outputs": [
    {
     "name": "stderr",
     "output_type": "stream",
     "text": [
      "\u001b[1m\u001b[22m`stat_bin()` using `bins = 30`. Pick better value with `binwidth`.\n",
      "\u001b[1m\u001b[22m`stat_bin()` using `bins = 30`. Pick better value with `binwidth`.\n",
      "\u001b[1m\u001b[22m`stat_bin()` using `bins = 30`. Pick better value with `binwidth`.\n",
      "\u001b[1m\u001b[22m`stat_bin()` using `bins = 30`. Pick better value with `binwidth`.\n",
      "\u001b[1m\u001b[22m`stat_bin()` using `bins = 30`. Pick better value with `binwidth`.\n"
     ]
    },
    {
     "data": {
      "image/png": "[encoded data removed]",
      "text/plain": [
       "plot without title"
      ]
     },
     "metadata": {
      "image/png": {
       "height": 600,
       "width": 720
      }
     },
     "output_type": "display_data"
    }
   ],
   "source": [
    "age_hist <- ggplot(heart_train, aes(x = age)) +\n",
    "    geom_histogram() +\n",
    "    labs(x = \"Age\", y = \"Count\") +\n",
    "    theme(text = element_text(size=16))\n",
    "trestbps_hist <- ggplot(heart_train, aes(x = trestbps)) +\n",
    "    geom_histogram() +\n",
    "    labs(x = \"Resting Blood Pressure (mm Hg)\", y = \"Count\") +\n",
    "    theme(text = element_text(size=16)) \n",
    "chol_hist <- ggplot(heart_train, aes(x = chol)) +\n",
    "    geom_histogram() +\n",
    "    labs(x = \"Serum Cholestoral (mg/dl)\", y = \"Count\") +\n",
    "    theme(text = element_text(size=16))\n",
    "thalach_hist <- ggplot(heart_train, aes(x = thalach)) +\n",
    "    geom_histogram() +\n",
    "    labs(x = \"Maximun Heart Rate Achieved\", y = \"Count\") +\n",
    "    theme(text = element_text(size=16))\n",
    "oldpeak_hist <- ggplot(heart_train, aes(x = oldpeak)) +\n",
    "    geom_histogram() +\n",
    "    labs(x = \"ST Depression from Excercise\", y = \"Count\") +\n",
    "    theme(text = element_text(size=16))\n",
    "title <- ggdraw() + draw_label(\"Distruibutions of Variables in Heart Data Set\", fontface='bold', size = 20)\n",
    "heart_hist <- plot_grid(age_hist, trestbps_hist, chol_hist, thalach_hist, oldpeak_hist)\n",
    "heart_hist_title <- plot_grid(title, heart_hist, ncol=1, rel_heights=c(0.1, 1))\n",
    "heart_hist_title"
   ]
  }
 ],
 "metadata": {
  "kernelspec": {
   "display_name": "R",
   "language": "R",
   "name": "ir"
  },
  "language_info": {
   "codemirror_mode": "r",
   "file_extension": ".r",
   "mimetype": "text/x-r-source",
   "name": "R",
   "pygments_lexer": "r",
   "version": "4.2.2"
  }
 },
 "nbformat": 4,
 "nbformat_minor": 5
}
