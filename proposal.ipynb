{
 "cells": [
  {
   "cell_type": "markdown",
   "id": "92d0c956-3cda-4859-a76a-4cae944e89f5",
   "metadata": {
    "tags": []
   },
   "source": [
    "**Project Proposal**"
   ]
  },
  {
   "cell_type": "markdown",
   "id": "0f043a3e-f508-49ef-9f0f-6616c8602134",
   "metadata": {},
   "source": [
    "**Introduction**"
   ]
  },
  {
   "cell_type": "markdown",
   "id": "60ab8048-a53e-4f00-b2c2-ba9fbe99bc72",
   "metadata": {},
   "source": [
    "In the United States, 48% of the population lives with heart disease. Notably, the vast majority of individuals live with a significant risk factor for heart disease.   \n",
    "\n",
    "This project will answer the question: \n",
    "\n",
    "*“How accurately could predictors in the Cleveland Heart Disease Data Set predict the presence of heart disease in an individual?”*     \n",
    "\n",
    "Our dataset originates from the V.A. Medical Center, Long Beach and Cleveland Clinic Foundation. \n"
   ]
  },
  {
   "cell_type": "markdown",
   "id": "0bd2b7d4-954f-4802-a94d-b531f459e854",
   "metadata": {
    "tags": []
   },
   "source": [
    "**Exploratory Analysis**"
   ]
  },
  {
   "cell_type": "code",
   "execution_count": 1,
   "id": "08a90b8a-c5c1-4c33-8ba1-2800c33aa072",
   "metadata": {
    "tags": []
   },
   "outputs": [
    {
     "name": "stderr",
     "output_type": "stream",
     "text": [
      "── \u001b[1mAttaching core tidyverse packages\u001b[22m ───────────────────────────────────────────────────── tidyverse 2.0.0 ──\n",
      "\u001b[32m✔\u001b[39m \u001b[34mdplyr    \u001b[39m 1.1.0     \u001b[32m✔\u001b[39m \u001b[34mreadr    \u001b[39m 2.1.4\n",
      "\u001b[32m✔\u001b[39m \u001b[34mforcats  \u001b[39m 1.0.0     \u001b[32m✔\u001b[39m \u001b[34mstringr  \u001b[39m 1.5.0\n",
      "\u001b[32m✔\u001b[39m \u001b[34mggplot2  \u001b[39m 3.4.1     \u001b[32m✔\u001b[39m \u001b[34mtibble   \u001b[39m 3.1.8\n",
      "\u001b[32m✔\u001b[39m \u001b[34mlubridate\u001b[39m 1.9.2     \u001b[32m✔\u001b[39m \u001b[34mtidyr    \u001b[39m 1.3.0\n",
      "\u001b[32m✔\u001b[39m \u001b[34mpurrr    \u001b[39m 1.0.1     \n",
      "── \u001b[1mConflicts\u001b[22m ─────────────────────────────────────────────────────────────────────── tidyverse_conflicts() ──\n",
      "\u001b[31m✖\u001b[39m \u001b[34mdplyr\u001b[39m::\u001b[32mfilter()\u001b[39m masks \u001b[34mstats\u001b[39m::filter()\n",
      "\u001b[31m✖\u001b[39m \u001b[34mdplyr\u001b[39m::\u001b[32mlag()\u001b[39m    masks \u001b[34mstats\u001b[39m::lag()\n",
      "\u001b[36mℹ\u001b[39m Use the conflicted package (\u001b[3m\u001b[34m<http://conflicted.r-lib.org/>\u001b[39m\u001b[23m) to force all conflicts to become errors\n",
      "── \u001b[1mAttaching packages\u001b[22m ─────────────────────────────────────────────────────────────────── tidymodels 1.0.0 ──\n",
      "\n",
      "\u001b[32m✔\u001b[39m \u001b[34mbroom       \u001b[39m 1.0.3     \u001b[32m✔\u001b[39m \u001b[34mrsample     \u001b[39m 1.1.1\n",
      "\u001b[32m✔\u001b[39m \u001b[34mdials       \u001b[39m 1.1.0     \u001b[32m✔\u001b[39m \u001b[34mtune        \u001b[39m 1.0.1\n",
      "\u001b[32m✔\u001b[39m \u001b[34minfer       \u001b[39m 1.0.4     \u001b[32m✔\u001b[39m \u001b[34mworkflows   \u001b[39m 1.1.3\n",
      "\u001b[32m✔\u001b[39m \u001b[34mmodeldata   \u001b[39m 1.1.0     \u001b[32m✔\u001b[39m \u001b[34mworkflowsets\u001b[39m 1.0.0\n",
      "\u001b[32m✔\u001b[39m \u001b[34mparsnip     \u001b[39m 1.0.4     \u001b[32m✔\u001b[39m \u001b[34myardstick   \u001b[39m 1.1.0\n",
      "\u001b[32m✔\u001b[39m \u001b[34mrecipes     \u001b[39m 1.0.5     \n",
      "\n",
      "── \u001b[1mConflicts\u001b[22m ────────────────────────────────────────────────────────────────────── tidymodels_conflicts() ──\n",
      "\u001b[31m✖\u001b[39m \u001b[34mscales\u001b[39m::\u001b[32mdiscard()\u001b[39m masks \u001b[34mpurrr\u001b[39m::discard()\n",
      "\u001b[31m✖\u001b[39m \u001b[34mdplyr\u001b[39m::\u001b[32mfilter()\u001b[39m   masks \u001b[34mstats\u001b[39m::filter()\n",
      "\u001b[31m✖\u001b[39m \u001b[34mrecipes\u001b[39m::\u001b[32mfixed()\u001b[39m  masks \u001b[34mstringr\u001b[39m::fixed()\n",
      "\u001b[31m✖\u001b[39m \u001b[34mdplyr\u001b[39m::\u001b[32mlag()\u001b[39m      masks \u001b[34mstats\u001b[39m::lag()\n",
      "\u001b[31m✖\u001b[39m \u001b[34myardstick\u001b[39m::\u001b[32mspec()\u001b[39m masks \u001b[34mreadr\u001b[39m::spec()\n",
      "\u001b[31m✖\u001b[39m \u001b[34mrecipes\u001b[39m::\u001b[32mstep()\u001b[39m   masks \u001b[34mstats\u001b[39m::step()\n",
      "\u001b[34m•\u001b[39m Search for functions across packages at \u001b[32mhttps://www.tidymodels.org/find/\u001b[39m\n",
      "\n",
      "\n",
      "Attaching package: 'cowplot'\n",
      "\n",
      "\n",
      "The following object is masked from 'package:lubridate':\n",
      "\n",
      "    stamp\n",
      "\n",
      "\n"
     ]
    }
   ],
   "source": [
    "# First we load in the packages that will need to later use.\n",
    "library(repr)\n",
    "library(tidyverse)\n",
    "library(tidymodels)\n",
    "library(cowplot)\n",
    "options(repr.matrix.max.rows = 6, repr.plot.width = 12, repr.plot.height = 10)"
   ]
  },
  {
   "cell_type": "code",
   "execution_count": 2,
   "id": "497907a7-129a-470f-81da-977ef62c8efe",
   "metadata": {
    "tags": []
   },
   "outputs": [
    {
     "name": "stderr",
     "output_type": "stream",
     "text": [
      "\u001b[1mRows: \u001b[22m\u001b[34m303\u001b[39m \u001b[1mColumns: \u001b[22m\u001b[34m14\u001b[39m\n",
      "\u001b[36m──\u001b[39m \u001b[1mColumn specification\u001b[22m \u001b[36m─────────────────────────────────────────────────────────────────────────────────────\u001b[39m\n",
      "\u001b[1mDelimiter:\u001b[22m \",\"\n",
      "\u001b[31mchr\u001b[39m  (2): ca, thal\n",
      "\u001b[32mdbl\u001b[39m (12): age, sex, cp, trestbps, chol, fbs, restecg, thalach, exang, oldpea...\n",
      "\n",
      "\u001b[36mℹ\u001b[39m Use `spec()` to retrieve the full column specification for this data.\n",
      "\u001b[36mℹ\u001b[39m Specify the column types or set `show_col_types = FALSE` to quiet this message.\n"
     ]
    },
    {
     "data": {
      "text/html": [
       "<table class=\"dataframe\">\n",
       "<caption>A spec_tbl_df: 303 × 14</caption>\n",
       "<thead>\n",
       "\t<tr><th scope=col>age</th><th scope=col>sex</th><th scope=col>cp</th><th scope=col>trestbps</th><th scope=col>chol</th><th scope=col>fbs</th><th scope=col>restecg</th><th scope=col>thalach</th><th scope=col>exang</th><th scope=col>oldpeak</th><th scope=col>slope</th><th scope=col>ca</th><th scope=col>thal</th><th scope=col>num</th></tr>\n",
       "\t<tr><th scope=col>&lt;dbl&gt;</th><th scope=col>&lt;dbl&gt;</th><th scope=col>&lt;dbl&gt;</th><th scope=col>&lt;dbl&gt;</th><th scope=col>&lt;dbl&gt;</th><th scope=col>&lt;dbl&gt;</th><th scope=col>&lt;dbl&gt;</th><th scope=col>&lt;dbl&gt;</th><th scope=col>&lt;dbl&gt;</th><th scope=col>&lt;dbl&gt;</th><th scope=col>&lt;dbl&gt;</th><th scope=col>&lt;chr&gt;</th><th scope=col>&lt;chr&gt;</th><th scope=col>&lt;dbl&gt;</th></tr>\n",
       "</thead>\n",
       "<tbody>\n",
       "\t<tr><td>63</td><td>1</td><td>1</td><td>145</td><td>233</td><td>1</td><td>2</td><td>150</td><td>0</td><td>2.3</td><td>3</td><td>0.0</td><td>6.0</td><td>0</td></tr>\n",
       "\t<tr><td>67</td><td>1</td><td>4</td><td>160</td><td>286</td><td>0</td><td>2</td><td>108</td><td>1</td><td>1.5</td><td>2</td><td>3.0</td><td>3.0</td><td>2</td></tr>\n",
       "\t<tr><td>67</td><td>1</td><td>4</td><td>120</td><td>229</td><td>0</td><td>2</td><td>129</td><td>1</td><td>2.6</td><td>2</td><td>2.0</td><td>7.0</td><td>1</td></tr>\n",
       "\t<tr><td>⋮</td><td>⋮</td><td>⋮</td><td>⋮</td><td>⋮</td><td>⋮</td><td>⋮</td><td>⋮</td><td>⋮</td><td>⋮</td><td>⋮</td><td>⋮</td><td>⋮</td><td>⋮</td></tr>\n",
       "\t<tr><td>57</td><td>1</td><td>4</td><td>130</td><td>131</td><td>0</td><td>0</td><td>115</td><td>1</td><td>1.2</td><td>2</td><td>1.0</td><td>7.0</td><td>3</td></tr>\n",
       "\t<tr><td>57</td><td>0</td><td>2</td><td>130</td><td>236</td><td>0</td><td>2</td><td>174</td><td>0</td><td>0.0</td><td>2</td><td>1.0</td><td>3.0</td><td>1</td></tr>\n",
       "\t<tr><td>38</td><td>1</td><td>3</td><td>138</td><td>175</td><td>0</td><td>0</td><td>173</td><td>0</td><td>0.0</td><td>1</td><td>?  </td><td>3.0</td><td>0</td></tr>\n",
       "</tbody>\n",
       "</table>\n"
      ],
      "text/latex": [
       "A spec\\_tbl\\_df: 303 × 14\n",
       "\\begin{tabular}{llllllllllllll}\n",
       " age & sex & cp & trestbps & chol & fbs & restecg & thalach & exang & oldpeak & slope & ca & thal & num\\\\\n",
       " <dbl> & <dbl> & <dbl> & <dbl> & <dbl> & <dbl> & <dbl> & <dbl> & <dbl> & <dbl> & <dbl> & <chr> & <chr> & <dbl>\\\\\n",
       "\\hline\n",
       "\t 63 & 1 & 1 & 145 & 233 & 1 & 2 & 150 & 0 & 2.3 & 3 & 0.0 & 6.0 & 0\\\\\n",
       "\t 67 & 1 & 4 & 160 & 286 & 0 & 2 & 108 & 1 & 1.5 & 2 & 3.0 & 3.0 & 2\\\\\n",
       "\t 67 & 1 & 4 & 120 & 229 & 0 & 2 & 129 & 1 & 2.6 & 2 & 2.0 & 7.0 & 1\\\\\n",
       "\t ⋮ & ⋮ & ⋮ & ⋮ & ⋮ & ⋮ & ⋮ & ⋮ & ⋮ & ⋮ & ⋮ & ⋮ & ⋮ & ⋮\\\\\n",
       "\t 57 & 1 & 4 & 130 & 131 & 0 & 0 & 115 & 1 & 1.2 & 2 & 1.0 & 7.0 & 3\\\\\n",
       "\t 57 & 0 & 2 & 130 & 236 & 0 & 2 & 174 & 0 & 0.0 & 2 & 1.0 & 3.0 & 1\\\\\n",
       "\t 38 & 1 & 3 & 138 & 175 & 0 & 0 & 173 & 0 & 0.0 & 1 & ?   & 3.0 & 0\\\\\n",
       "\\end{tabular}\n"
      ],
      "text/markdown": [
       "\n",
       "A spec_tbl_df: 303 × 14\n",
       "\n",
       "| age &lt;dbl&gt; | sex &lt;dbl&gt; | cp &lt;dbl&gt; | trestbps &lt;dbl&gt; | chol &lt;dbl&gt; | fbs &lt;dbl&gt; | restecg &lt;dbl&gt; | thalach &lt;dbl&gt; | exang &lt;dbl&gt; | oldpeak &lt;dbl&gt; | slope &lt;dbl&gt; | ca &lt;chr&gt; | thal &lt;chr&gt; | num &lt;dbl&gt; |\n",
       "|---|---|---|---|---|---|---|---|---|---|---|---|---|---|\n",
       "| 63 | 1 | 1 | 145 | 233 | 1 | 2 | 150 | 0 | 2.3 | 3 | 0.0 | 6.0 | 0 |\n",
       "| 67 | 1 | 4 | 160 | 286 | 0 | 2 | 108 | 1 | 1.5 | 2 | 3.0 | 3.0 | 2 |\n",
       "| 67 | 1 | 4 | 120 | 229 | 0 | 2 | 129 | 1 | 2.6 | 2 | 2.0 | 7.0 | 1 |\n",
       "| ⋮ | ⋮ | ⋮ | ⋮ | ⋮ | ⋮ | ⋮ | ⋮ | ⋮ | ⋮ | ⋮ | ⋮ | ⋮ | ⋮ |\n",
       "| 57 | 1 | 4 | 130 | 131 | 0 | 0 | 115 | 1 | 1.2 | 2 | 1.0 | 7.0 | 3 |\n",
       "| 57 | 0 | 2 | 130 | 236 | 0 | 2 | 174 | 0 | 0.0 | 2 | 1.0 | 3.0 | 1 |\n",
       "| 38 | 1 | 3 | 138 | 175 | 0 | 0 | 173 | 0 | 0.0 | 1 | ?   | 3.0 | 0 |\n",
       "\n"
      ],
      "text/plain": [
       "    age sex cp trestbps chol fbs restecg thalach exang oldpeak slope ca  thal\n",
       "1   63  1   1  145      233  1   2       150     0     2.3     3     0.0 6.0 \n",
       "2   67  1   4  160      286  0   2       108     1     1.5     2     3.0 3.0 \n",
       "3   67  1   4  120      229  0   2       129     1     2.6     2     2.0 7.0 \n",
       "⋮   ⋮   ⋮   ⋮  ⋮        ⋮    ⋮   ⋮       ⋮       ⋮     ⋮       ⋮     ⋮   ⋮   \n",
       "301 57  1   4  130      131  0   0       115     1     1.2     2     1.0 7.0 \n",
       "302 57  0   2  130      236  0   2       174     0     0.0     2     1.0 3.0 \n",
       "303 38  1   3  138      175  0   0       173     0     0.0     1     ?   3.0 \n",
       "    num\n",
       "1   0  \n",
       "2   2  \n",
       "3   1  \n",
       "⋮   ⋮  \n",
       "301 3  \n",
       "302 1  \n",
       "303 0  "
      ]
     },
     "metadata": {},
     "output_type": "display_data"
    }
   ],
   "source": [
    "# We read the raw heart disease data from the web.\n",
    "heart_data <- read_csv(url(\"https://archive.ics.uci.edu/ml/machine-learning-databases/heart-disease/processed.cleveland.data\"), \n",
    "                       col_names = c(\"age\", \"sex\", \"cp\", \"trestbps\", \"chol\", \"fbs\", \"restecg\", \"thalach\", \"exang\", \"oldpeak\", \n",
    "                                     \"slope\", \"ca\", \"thal\", \"num\"))\n",
    "heart_data"
   ]
  },
  {
   "cell_type": "markdown",
   "id": "d5eac13a-8aa0-4fc6-ac4f-4b3ed5ade582",
   "metadata": {},
   "source": [
    "Now we select the columns that we may potentially use as predictors for our classification model. We mutate all cases where num > 0 to 1 as we simply want to determine if the patient has heart disease and not what stage of heart disease it is."
   ]
  },
  {
   "cell_type": "code",
   "execution_count": 3,
   "id": "054f8e45-27a8-496e-b7ce-8d09542d270f",
   "metadata": {
    "tags": []
   },
   "outputs": [
    {
     "data": {
      "text/html": [
       "<table class=\"dataframe\">\n",
       "<caption>A tibble: 303 × 6</caption>\n",
       "<thead>\n",
       "\t<tr><th scope=col>age</th><th scope=col>trestbps</th><th scope=col>chol</th><th scope=col>thalach</th><th scope=col>oldpeak</th><th scope=col>num</th></tr>\n",
       "\t<tr><th scope=col>&lt;dbl&gt;</th><th scope=col>&lt;dbl&gt;</th><th scope=col>&lt;dbl&gt;</th><th scope=col>&lt;dbl&gt;</th><th scope=col>&lt;dbl&gt;</th><th scope=col>&lt;fct&gt;</th></tr>\n",
       "</thead>\n",
       "<tbody>\n",
       "\t<tr><td>63</td><td>145</td><td>233</td><td>150</td><td>2.3</td><td>0</td></tr>\n",
       "\t<tr><td>67</td><td>160</td><td>286</td><td>108</td><td>1.5</td><td>1</td></tr>\n",
       "\t<tr><td>67</td><td>120</td><td>229</td><td>129</td><td>2.6</td><td>1</td></tr>\n",
       "\t<tr><td>⋮</td><td>⋮</td><td>⋮</td><td>⋮</td><td>⋮</td><td>⋮</td></tr>\n",
       "\t<tr><td>57</td><td>130</td><td>131</td><td>115</td><td>1.2</td><td>1</td></tr>\n",
       "\t<tr><td>57</td><td>130</td><td>236</td><td>174</td><td>0.0</td><td>1</td></tr>\n",
       "\t<tr><td>38</td><td>138</td><td>175</td><td>173</td><td>0.0</td><td>0</td></tr>\n",
       "</tbody>\n",
       "</table>\n"
      ],
      "text/latex": [
       "A tibble: 303 × 6\n",
       "\\begin{tabular}{llllll}\n",
       " age & trestbps & chol & thalach & oldpeak & num\\\\\n",
       " <dbl> & <dbl> & <dbl> & <dbl> & <dbl> & <fct>\\\\\n",
       "\\hline\n",
       "\t 63 & 145 & 233 & 150 & 2.3 & 0\\\\\n",
       "\t 67 & 160 & 286 & 108 & 1.5 & 1\\\\\n",
       "\t 67 & 120 & 229 & 129 & 2.6 & 1\\\\\n",
       "\t ⋮ & ⋮ & ⋮ & ⋮ & ⋮ & ⋮\\\\\n",
       "\t 57 & 130 & 131 & 115 & 1.2 & 1\\\\\n",
       "\t 57 & 130 & 236 & 174 & 0.0 & 1\\\\\n",
       "\t 38 & 138 & 175 & 173 & 0.0 & 0\\\\\n",
       "\\end{tabular}\n"
      ],
      "text/markdown": [
       "\n",
       "A tibble: 303 × 6\n",
       "\n",
       "| age &lt;dbl&gt; | trestbps &lt;dbl&gt; | chol &lt;dbl&gt; | thalach &lt;dbl&gt; | oldpeak &lt;dbl&gt; | num &lt;fct&gt; |\n",
       "|---|---|---|---|---|---|\n",
       "| 63 | 145 | 233 | 150 | 2.3 | 0 |\n",
       "| 67 | 160 | 286 | 108 | 1.5 | 1 |\n",
       "| 67 | 120 | 229 | 129 | 2.6 | 1 |\n",
       "| ⋮ | ⋮ | ⋮ | ⋮ | ⋮ | ⋮ |\n",
       "| 57 | 130 | 131 | 115 | 1.2 | 1 |\n",
       "| 57 | 130 | 236 | 174 | 0.0 | 1 |\n",
       "| 38 | 138 | 175 | 173 | 0.0 | 0 |\n",
       "\n"
      ],
      "text/plain": [
       "    age trestbps chol thalach oldpeak num\n",
       "1   63  145      233  150     2.3     0  \n",
       "2   67  160      286  108     1.5     1  \n",
       "3   67  120      229  129     2.6     1  \n",
       "⋮   ⋮   ⋮        ⋮    ⋮       ⋮       ⋮  \n",
       "301 57  130      131  115     1.2     1  \n",
       "302 57  130      236  174     0.0     1  \n",
       "303 38  138      175  173     0.0     0  "
      ]
     },
     "metadata": {},
     "output_type": "display_data"
    }
   ],
   "source": [
    "heart_selected <- select(heart_data, age, trestbps, chol, thalach, oldpeak, num) |>\n",
    "    mutate(num = as_factor(case_when(num > 0 ~ 1, num == 0 ~ 0)))\n",
    "heart_selected"
   ]
  },
  {
   "cell_type": "markdown",
   "id": "4379a444-db70-4274-b8f5-bac58eed53cb",
   "metadata": {},
   "source": [
    "**Each column represents the following:**\n",
    "\n",
    "age - in years    \n",
    "trestbps - the resting blood pressure in mm Hg (unit of pressure)  \n",
    "chol - serum cholesterol (mg/dl)  \n",
    "thalach - maximum heart rate achieved  \n",
    "oldpeak - ST depression induced by exercise relative to rest  \n",
    "num - presence of heart disease    "
   ]
  },
  {
   "cell_type": "code",
   "execution_count": 4,
   "id": "42bedfc6-680f-422f-b892-1077b708c8ba",
   "metadata": {
    "tags": []
   },
   "outputs": [],
   "source": [
    "# Splitting training and testing data.\n",
    "heart_split <- initial_split(heart_selected, prop = 0.75, strata = num)\n",
    "heart_train <- training(heart_split)\n",
    "heart_test <- testing(heart_split)"
   ]
  },
  {
   "cell_type": "markdown",
   "id": "a8223fa4-0535-46c1-9920-fd0de6623002",
   "metadata": {},
   "source": [
    "Table showing the number of observations and mean values of each class."
   ]
  },
  {
   "cell_type": "code",
   "execution_count": 5,
   "id": "1e1f3807-a594-43e1-966f-eda1cf9eeb0d",
   "metadata": {},
   "outputs": [
    {
     "data": {
      "text/html": [
       "<table class=\"dataframe\">\n",
       "<caption>A tibble: 2 × 7</caption>\n",
       "<thead>\n",
       "\t<tr><th scope=col>num</th><th scope=col>count</th><th scope=col>mean_age</th><th scope=col>mean_trestbps</th><th scope=col>mean_chol</th><th scope=col>mean_thalach</th><th scope=col>mean_oldpeak</th></tr>\n",
       "\t<tr><th scope=col>&lt;fct&gt;</th><th scope=col>&lt;int&gt;</th><th scope=col>&lt;dbl&gt;</th><th scope=col>&lt;dbl&gt;</th><th scope=col>&lt;dbl&gt;</th><th scope=col>&lt;dbl&gt;</th><th scope=col>&lt;dbl&gt;</th></tr>\n",
       "</thead>\n",
       "<tbody>\n",
       "\t<tr><td>0</td><td>123</td><td>52.56098</td><td>128.5122</td><td>242.7886</td><td>158.2764</td><td>0.6065041</td></tr>\n",
       "\t<tr><td>1</td><td>104</td><td>56.91346</td><td>135.0769</td><td>250.7885</td><td>139.0096</td><td>1.5153846</td></tr>\n",
       "</tbody>\n",
       "</table>\n"
      ],
      "text/latex": [
       "A tibble: 2 × 7\n",
       "\\begin{tabular}{lllllll}\n",
       " num & count & mean\\_age & mean\\_trestbps & mean\\_chol & mean\\_thalach & mean\\_oldpeak\\\\\n",
       " <fct> & <int> & <dbl> & <dbl> & <dbl> & <dbl> & <dbl>\\\\\n",
       "\\hline\n",
       "\t 0 & 123 & 52.56098 & 128.5122 & 242.7886 & 158.2764 & 0.6065041\\\\\n",
       "\t 1 & 104 & 56.91346 & 135.0769 & 250.7885 & 139.0096 & 1.5153846\\\\\n",
       "\\end{tabular}\n"
      ],
      "text/markdown": [
       "\n",
       "A tibble: 2 × 7\n",
       "\n",
       "| num &lt;fct&gt; | count &lt;int&gt; | mean_age &lt;dbl&gt; | mean_trestbps &lt;dbl&gt; | mean_chol &lt;dbl&gt; | mean_thalach &lt;dbl&gt; | mean_oldpeak &lt;dbl&gt; |\n",
       "|---|---|---|---|---|---|---|\n",
       "| 0 | 123 | 52.56098 | 128.5122 | 242.7886 | 158.2764 | 0.6065041 |\n",
       "| 1 | 104 | 56.91346 | 135.0769 | 250.7885 | 139.0096 | 1.5153846 |\n",
       "\n"
      ],
      "text/plain": [
       "  num count mean_age mean_trestbps mean_chol mean_thalach mean_oldpeak\n",
       "1 0   123   52.56098 128.5122      242.7886  158.2764     0.6065041   \n",
       "2 1   104   56.91346 135.0769      250.7885  139.0096     1.5153846   "
      ]
     },
     "metadata": {},
     "output_type": "display_data"
    }
   ],
   "source": [
    "heart_sum <- heart_train |> \n",
    "    group_by(num) |> \n",
    "    summarize(count = n(), mean_age = mean(age), mean_trestbps = mean(trestbps), \n",
    "              mean_chol = mean(chol), mean_thalach = mean(thalach), mean_oldpeak = mean(oldpeak))\n",
    "heart_sum"
   ]
  },
  {
   "cell_type": "code",
   "execution_count": 6,
   "id": "6fcfeda4-11f4-4712-816d-8bf2c53855ab",
   "metadata": {
    "tags": []
   },
   "outputs": [
    {
     "name": "stderr",
     "output_type": "stream",
     "text": [
      "\u001b[1m\u001b[22m`stat_bin()` using `bins = 30`. Pick better value with `binwidth`.\n",
      "\u001b[1m\u001b[22m`stat_bin()` using `bins = 30`. Pick better value with `binwidth`.\n",
      "\u001b[1m\u001b[22m`stat_bin()` using `bins = 30`. Pick better value with `binwidth`.\n",
      "\u001b[1m\u001b[22m`stat_bin()` using `bins = 30`. Pick better value with `binwidth`.\n",
      "\u001b[1m\u001b[22m`stat_bin()` using `bins = 30`. Pick better value with `binwidth`.\n"
     ]
    },
    {
     "data": {
      "image/png": "[encoded data removed]",
      "text/plain": [
       "plot without title"
      ]
     },
     "metadata": {
      "image/png": {
       "height": 600,
       "width": 720
      }
     },
     "output_type": "display_data"
    }
   ],
   "source": [
    "#We use the plot_grid function from the cowplot package to merge all histograms into a single plot as well as add a title.\n",
    "age_hist <- ggplot(heart_train, aes(x = age)) +\n",
    "    geom_histogram() +\n",
    "    labs(x = \"Age\", y = \"Count\") +\n",
    "    theme(text = element_text(size=16))\n",
    "trestbps_hist <- ggplot(heart_train, aes(x = trestbps)) +\n",
    "    geom_histogram() +\n",
    "    labs(x = \"Resting Blood Pressure (mm Hg)\", y = \"Count\") +\n",
    "    theme(text = element_text(size=16)) \n",
    "chol_hist <- ggplot(heart_train, aes(x = chol)) +\n",
    "    geom_histogram() +\n",
    "    labs(x = \"Serum Cholestoral (mg/dl)\", y = \"Count\") +\n",
    "    theme(text = element_text(size=16))\n",
    "thalach_hist <- ggplot(heart_train, aes(x = thalach)) +\n",
    "    geom_histogram() +\n",
    "    labs(x = \"Maximun Heart Rate Achieved\", y = \"Count\") +\n",
    "    theme(text = element_text(size=16))\n",
    "oldpeak_hist <- ggplot(heart_train, aes(x = oldpeak)) +\n",
    "    geom_histogram() +\n",
    "    labs(x = \"ST Depression from Excercise\", y = \"Count\") +\n",
    "    theme(text = element_text(size=16))\n",
    "title <- ggdraw() + draw_label(\"1. Distruibutions of Variables in Heart Data Set\", fontface='bold', size = 20)\n",
    "heart_hist <- plot_grid(age_hist, trestbps_hist, chol_hist, thalach_hist, oldpeak_hist)\n",
    "heart_hist_title <- plot_grid(title, heart_hist, ncol=1, rel_heights=c(0.1, 1))\n",
    "heart_hist_title"
   ]
  },
  {
   "cell_type": "markdown",
   "id": "17457ab5-e75b-478f-9236-8e2caa7b3f77",
   "metadata": {},
   "source": [
    "We use ggplot to make histograms in order to visualize the distribution of each potential predictor. This may be useful for when we decide which predictors to use. "
   ]
  },
  {
   "cell_type": "markdown",
   "id": "4385eab7-fc41-4e34-81c8-6ca59e884a1c",
   "metadata": {},
   "source": [
    "**Methods**"
   ]
  },
  {
   "cell_type": "markdown",
   "id": "c2749c4e-19bf-4cba-9db5-bcf570771ff4",
   "metadata": {
    "tags": []
   },
   "source": [
    "In order to create a classification model, we first split our data into training and testing sets. Our model will use the k nearest neighbors algorithm. We must first scale and center the training data as the algorithm is affected by the scale of predictors. We will then split the training set into 5 groups to perform cross validation, determining the best value for k. Next, we can use forward selection to calculate the set of predictors with the greatest classification accuracy. Categorical variables often do not make good predictors due to their rough distributions, so we will only consider numerical variables as candidates for potential predictors. Once we have determined our k value and predictors, the next step is to set up a workflow with a recipe and classifier and train the classifier using our training data. Now that the classification model has been created, we will test the accuracy of the model by passing the test data into the model. Our results will be visualized with a confusion matrix alongside scatterplots of the predictor variables. Each observation will include a fill color to illustrate its class. \n"
   ]
  },
  {
   "cell_type": "markdown",
   "id": "68391940-bebb-4e4e-bdb6-030be6c90e47",
   "metadata": {},
   "source": [
    "**Expected outcomes and significance:**"
   ]
  },
  {
   "cell_type": "markdown",
   "id": "e855b110-21a9-4f10-94c1-0d46f479f8ee",
   "metadata": {},
   "source": [
    "We expect to establish which variables in the heart disease data set are best suited to be used as predictors for determining the presence of heart disease and the accuracy it can be done with.  \n",
    "\n",
    "The early prediction of heart disease may help prevent it in many individuals as well as allow for more effective treatment. This would not only save many lives but also serve to ease the financial burden on the healthcare system.  \n",
    "\n",
    "This analysis could lead to questions of how heart disease can be prevented, including those around identifying additional risk factors. Further extensions could include analysis into how predictors could be identified prior to symptoms arising to prevent impacts of the disease. Additionally, similar frameworks can be applied to other chronic conditions with major burdens on individuals and healthcare systems. \n"
   ]
  },
  {
   "cell_type": "markdown",
   "id": "88fdf524-bf84-4cc4-8033-a2488d678a8f",
   "metadata": {
    "tags": []
   },
   "source": [
    "**Bibliography:**  \n",
    "\n",
    "Cardiovascular diseases affect nearly half of American adults, statistics show. www.heart.org. (2021, November 23). Retrieved March 9, 2023, from https://www.heart.org/en/news/2019/01/31/cardiovascular-diseases-affect-nearly-half-of-american-adults-statistics-show  \n",
    "\n",
    "Centers for Disease Control and Prevention. (2022, October 14). Heart disease facts. Centers for Disease Control and Prevention. Retrieved March 9, 2023, from https://www.cdc.gov/heartdisease/facts.htm  \n",
    "    \n",
    " Hungarian Institute of Cardiology. (1988, July 1). Heart Disease Data Set. UCI Machine Learning Repository: Heart disease data set. Retrieved March 9, 2023, from https://archive.ics.uci.edu/ml/datasets/Heart+Disease"
   ]
  }
 ],
 "metadata": {
  "kernelspec": {
   "display_name": "R",
   "language": "R",
   "name": "ir"
  },
  "language_info": {
   "codemirror_mode": "r",
   "file_extension": ".r",
   "mimetype": "text/x-r-source",
   "name": "R",
   "pygments_lexer": "r",
   "version": "4.2.2"
  }
 },
 "nbformat": 4,
 "nbformat_minor": 5
}
