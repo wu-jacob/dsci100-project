{
 "cells": [
  {
   "cell_type": "code",
   "execution_count": 2,
   "id": "08a90b8a-c5c1-4c33-8ba1-2800c33aa072",
   "metadata": {
    "tags": []
   },
   "outputs": [
    {
     "data": {
      "text/html": [
       "'hello world'"
      ],
      "text/latex": [
       "'hello world'"
      ],
      "text/markdown": [
       "'hello world'"
      ],
      "text/plain": [
       "[1] \"hello world\""
      ]
     },
     "metadata": {},
     "output_type": "display_data"
    }
   ],
   "source": [
    "variable <- \"hello world\"\n",
    "variable"
   ]
  }
 ],
 "metadata": {
  "kernelspec": {
   "display_name": "R",
   "language": "R",
   "name": "ir"
  },
  "language_info": {
   "codemirror_mode": "r",
   "file_extension": ".r",
   "mimetype": "text/x-r-source",
   "name": "R",
   "pygments_lexer": "r",
   "version": "4.2.2"
  }
 },
 "nbformat": 4,
 "nbformat_minor": 5
}
